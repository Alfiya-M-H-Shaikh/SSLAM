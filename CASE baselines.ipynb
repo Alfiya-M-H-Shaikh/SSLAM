{
 "cells": [
  {
   "cell_type": "markdown",
   "source": "##### This notebook has code of logistic regression, xgboost and mlp baselines for both valence and accuracy classification",
   "metadata": {
    "collapsed": false
   },
   "id": "aca20a465a843d4e"
  },
  {
   "cell_type": "code",
   "outputs": [
    {
     "name": "stdout",
     "output_type": "stream",
     "text": [
      "C:\\Users\\Alfiya\\Desktop\\SLAB-main\\Code\n"
     ]
    }
   ],
   "source": [
    "cd C:\\Users\\Alfiya\\Desktop\\SLAB-main\\Code"
   ],
   "metadata": {
    "collapsed": false,
    "ExecuteTime": {
     "end_time": "2024-03-21T07:07:33.386441500Z",
     "start_time": "2024-03-21T07:07:33.383639300Z"
    }
   },
   "id": "8989dc6cc509d24d",
   "execution_count": 1
  },
  {
   "cell_type": "code",
   "outputs": [
    {
     "name": "stdout",
     "output_type": "stream",
     "text": [
      "WARNING:tensorflow:From C:\\Users\\Alfiya\\anaconda3\\Lib\\site-packages\\keras\\src\\losses.py:2976: The name tf.losses.sparse_softmax_cross_entropy is deprecated. Please use tf.compat.v1.losses.sparse_softmax_cross_entropy instead.\n"
     ]
    },
    {
     "ename": "ModuleNotFoundError",
     "evalue": "No module named 'supervised_models'",
     "output_type": "error",
     "traceback": [
      "\u001B[1;31m---------------------------------------------------------------------------\u001B[0m",
      "\u001B[1;31mModuleNotFoundError\u001B[0m                       Traceback (most recent call last)",
      "Cell \u001B[1;32mIn[3], line 14\u001B[0m\n\u001B[0;32m     11\u001B[0m \u001B[38;5;28;01mfrom\u001B[39;00m \u001B[38;5;21;01msklearn\u001B[39;00m\u001B[38;5;21;01m.\u001B[39;00m\u001B[38;5;21;01mmodel_selection\u001B[39;00m \u001B[38;5;28;01mimport\u001B[39;00m train_test_split\n\u001B[0;32m     12\u001B[0m \u001B[38;5;28;01mfrom\u001B[39;00m \u001B[38;5;21;01mkeras\u001B[39;00m\u001B[38;5;21;01m.\u001B[39;00m\u001B[38;5;21;01mmodels\u001B[39;00m \u001B[38;5;28;01mimport\u001B[39;00m load_model\n\u001B[1;32m---> 14\u001B[0m \u001B[38;5;28;01mfrom\u001B[39;00m \u001B[38;5;21;01msupervised_models\u001B[39;00m \u001B[38;5;28;01mimport\u001B[39;00m logit, xgb_model, mlp\n\u001B[0;32m     15\u001B[0m \u001B[38;5;28;01mfrom\u001B[39;00m \u001B[38;5;21;01mutils\u001B[39;00m \u001B[38;5;28;01mimport\u001B[39;00m perf_metric\n\u001B[0;32m     16\u001B[0m \u001B[38;5;28;01mfrom\u001B[39;00m \u001B[38;5;21;01mVIME\u001B[39;00m\u001B[38;5;21;01m.\u001B[39;00m\u001B[38;5;21;01mvime_self\u001B[39;00m \u001B[38;5;28;01mimport\u001B[39;00m vime_self\n",
      "\u001B[1;31mModuleNotFoundError\u001B[0m: No module named 'supervised_models'"
     ]
    }
   ],
   "source": [
    "import os\n",
    "#Necessary packages\n",
    "import warnings\n",
    "warnings.filterwarnings(\"ignore\")\n",
    "\n",
    "import pandas as pd\n",
    "import numpy as np\n",
    "import os\n",
    "import joblib \n",
    "from sklearn.preprocessing import OneHotEncoder\n",
    "from sklearn.model_selection import train_test_split\n",
    "from keras.models import load_model\n",
    "\n",
    "from supervised_models import logit, xgb_model, mlp\n",
    "from utils import perf_metric\n",
    "from VIME.vime_self import vime_self\n",
    "from hexr_self import hexr_self"
   ],
   "metadata": {
    "collapsed": false,
    "ExecuteTime": {
     "end_time": "2024-03-22T04:26:41.216509500Z",
     "start_time": "2024-03-22T04:26:37.572032100Z"
    }
   },
   "id": "e08eb1ee4814a362",
   "execution_count": 3
  },
  {
   "cell_type": "code",
   "execution_count": 3,
   "id": "initial_id",
   "metadata": {
    "collapsed": true,
    "ExecuteTime": {
     "end_time": "2024-03-21T07:07:36.565602100Z",
     "start_time": "2024-03-21T07:07:36.562030100Z"
    }
   },
   "outputs": [],
   "source": [
    "def one_hot_encode(df, class_label):\n",
    "    #one-hot encode class column\n",
    "    ohe = OneHotEncoder()\n",
    "    #Choose either class1 or class2 to select either valence or arousal\n",
    "    df_ohe = pd.DataFrame(ohe.fit_transform(df[[class_label]]).toarray())\n",
    "    df = df.join(df_ohe)\n",
    "    \n",
    "    df.drop('class1', axis=1, inplace=True)\n",
    "    df.drop('class2', axis=1, inplace=True)\n",
    "    df.drop('Unnamed: 0', axis=1, inplace=True)\n",
    "    df.drop('valence', axis=1, inplace=True)\n",
    "    df.drop('arousal', axis=1, inplace=True)\n",
    "    \n",
    "    X = df.loc[:,:'emg_trap']\n",
    "    y = df.iloc[:,8:]\n",
    "    return X, y"
   ]
  },
  {
   "metadata": {},
   "cell_type": "code",
   "outputs": [],
   "execution_count": 4,
   "source": [
    "def split_data(X, y, label_data_rate, test_size=0.2):\n",
    "    \"\"\"\n",
    "    Train-test split and train split into unlablled and labelled data without normalization\n",
    "    if Test is 15% of the data\n",
    "    10% of 85% = 8.5% :- Labelled dataset\n",
    "    90% of 85% = 76.5% :- Unlabelled dataset\n",
    "    \n",
    "    if Test is 20% of the data \n",
    "    10% of 80% = 8% :- Labelled dataset\n",
    "    90% of 80% = 72% :- Unlabelled dataset\n",
    "    \"\"\"\n",
    "    x_train, x_test, y_train, y_test = train_test_split(X, y, test_size=test_size, random_state=33) \n",
    "    \n",
    "    #converting to numpy arrays\n",
    "    x_train = x_train.iloc[:, :].values\n",
    "    y_train = y_train.iloc[:, :].values\n",
    "    x_test = x_test.iloc[:,:].values\n",
    "    y_test = y_test.iloc[:,:].values\n",
    "    x_train.shape, x_test.shape, y_train.shape, y_test.shape\n",
    "    \n",
    "    # Divide labeled and unlabeled data\n",
    "    idx = np.random.permutation(len(y_train))\n",
    "    \n",
    "    # Label data : Unlabeled data = label_data_rate:(1-label_data_rate)\n",
    "    label_idx = idx[:int(len(idx)*label_data_rate)]\n",
    "    unlab_idx = idx[int(len(idx)*label_data_rate):]\n",
    "    \n",
    "    # Unlabeled data\n",
    "    x_unlab = x_train[unlab_idx, :]\n",
    "    \n",
    "    # Labeled data\n",
    "    x_train = x_train[label_idx, :] \n",
    "    y_train = y_train[label_idx, :]\n",
    "    return x_unlab, x_train, x_test, y_train, y_test"
   ],
   "id": "3c9f1e113c648ada"
  },
  {
   "cell_type": "code",
   "outputs": [],
   "source": [
    "#Experimental parameters\n",
    "label_data_rate = 0.1\n",
    "\n",
    "#Metrics\n",
    "metric1 = 'acc'\n",
    "metric2 = 'auc'\n",
    "\n",
    "#parameters to train the encoder\n",
    "p_m = 0.3\n",
    "alpha = 2.0"
   ],
   "metadata": {
    "collapsed": false,
    "ExecuteTime": {
     "end_time": "2024-03-21T07:07:38.972987500Z",
     "start_time": "2024-03-21T07:07:38.965243400Z"
    }
   },
   "id": "22dde2a6a1492953",
   "execution_count": 4
  },
  {
   "cell_type": "markdown",
   "source": [
    "## Valence Accuracy using Logistic regression "
   ],
   "metadata": {
    "collapsed": false
   },
   "id": "1966fb49742a2481"
  },
  {
   "cell_type": "code",
   "outputs": [],
   "source": [
    "#load case dataset\n",
    "df = pd.read_csv(\"..\\Data\\CASE_2class.csv\")"
   ],
   "metadata": {
    "collapsed": false,
    "ExecuteTime": {
     "end_time": "2024-03-21T04:57:02.064031900Z",
     "start_time": "2024-03-21T04:57:01.367366200Z"
    }
   },
   "id": "de826b3b6a190cde",
   "execution_count": 6
  },
  {
   "cell_type": "code",
   "outputs": [],
   "source": [
    "X, Y = one_hot_encode(df, 'class1')"
   ],
   "metadata": {
    "collapsed": false,
    "ExecuteTime": {
     "end_time": "2024-03-21T04:57:04.405421100Z",
     "start_time": "2024-03-21T04:57:04.136687600Z"
    }
   },
   "id": "dae0e6125a8929f3",
   "execution_count": 7
  },
  {
   "cell_type": "code",
   "outputs": [
    {
     "data": {
      "text/plain": "((1470960, 8), (1470960, 2))"
     },
     "execution_count": 8,
     "metadata": {},
     "output_type": "execute_result"
    }
   ],
   "source": [
    "X.shape, Y.shape"
   ],
   "metadata": {
    "collapsed": false,
    "ExecuteTime": {
     "end_time": "2024-03-21T04:57:05.484717Z",
     "start_time": "2024-03-21T04:57:05.476632200Z"
    }
   },
   "id": "b9848167b2808036",
   "execution_count": 8
  },
  {
   "cell_type": "code",
   "outputs": [],
   "source": "x_unlab, x_train, x_test, y_train, y_test = split_data(X, Y, label_data_rate, test_size=0.15)",
   "metadata": {
    "collapsed": false,
    "ExecuteTime": {
     "end_time": "2024-02-16T06:34:44.195893900Z",
     "start_time": "2024-02-16T06:34:43.952610600Z"
    }
   },
   "id": "1828ae6aded7e38d",
   "execution_count": 9
  },
  {
   "cell_type": "code",
   "outputs": [
    {
     "data": {
      "text/plain": "((1125285, 8), (125031, 8), (220644, 8), (125031, 2), (220644, 2))"
     },
     "execution_count": 10,
     "metadata": {},
     "output_type": "execute_result"
    }
   ],
   "source": [
    "x_unlab.shape, x_train.shape, x_test.shape, y_train.shape, y_test.shape"
   ],
   "metadata": {
    "collapsed": false,
    "ExecuteTime": {
     "end_time": "2024-03-21T04:57:37.200077700Z",
     "start_time": "2024-03-21T04:57:37.196547400Z"
    }
   },
   "id": "75b5a0ba7e02ae3f",
   "execution_count": 10
  },
  {
   "cell_type": "code",
   "outputs": [],
   "source": [
    "#logistic regression\n",
    "logistic_valence_acc = []\n",
    "logistic_valence_auc = []\n",
    "y_test_hat = logit(x_train, y_train, x_test)\n",
    "logistic_valence_acc.append(perf_metric(metric1, y_test, y_test_hat))\n",
    "logistic_valence_auc.append(perf_metric(metric2, y_test, y_test_hat))"
   ],
   "metadata": {
    "collapsed": false,
    "ExecuteTime": {
     "end_time": "2024-02-14T07:28:49.317946900Z",
     "start_time": "2024-02-14T07:28:49.015626200Z"
    }
   },
   "id": "224baeddd8973cbf",
   "execution_count": 47
  },
  {
   "cell_type": "code",
   "outputs": [
    {
     "data": {
      "text/plain": "[0.6900708834140062]"
     },
     "execution_count": 48,
     "metadata": {},
     "output_type": "execute_result"
    }
   ],
   "source": [
    "logistic_valence_acc"
   ],
   "metadata": {
    "collapsed": false,
    "ExecuteTime": {
     "end_time": "2024-02-14T07:28:51.453719900Z",
     "start_time": "2024-02-14T07:28:51.450813400Z"
    }
   },
   "id": "b30840cf5802bb87",
   "execution_count": 48
  },
  {
   "cell_type": "code",
   "outputs": [
    {
     "data": {
      "text/plain": "[0.5450630299376711]"
     },
     "execution_count": 85,
     "metadata": {},
     "output_type": "execute_result"
    }
   ],
   "source": [
    "logistic_valence_auc"
   ],
   "metadata": {
    "collapsed": false,
    "ExecuteTime": {
     "end_time": "2024-02-14T06:54:03.115210500Z",
     "start_time": "2024-02-14T06:54:03.112221900Z"
    }
   },
   "id": "827b92f6c18a3c51",
   "execution_count": 85
  },
  {
   "cell_type": "markdown",
   "source": [
    "## Arousal Accuracy using Logistic regression "
   ],
   "metadata": {
    "collapsed": false
   },
   "id": "45ef76b58caa27f2"
  },
  {
   "cell_type": "code",
   "outputs": [],
   "source": [
    "#load case dataset\n",
    "df = pd.read_csv(\"..\\Data\\CASE_2class.csv\")"
   ],
   "metadata": {
    "collapsed": false,
    "ExecuteTime": {
     "end_time": "2024-02-14T06:54:08.856358400Z",
     "start_time": "2024-02-14T06:54:08.102227300Z"
    }
   },
   "id": "d2b0b05b86b68cda",
   "execution_count": 86
  },
  {
   "cell_type": "code",
   "outputs": [],
   "source": [
    "X, Y = one_hot_encode(df, 'class2')"
   ],
   "metadata": {
    "collapsed": false,
    "ExecuteTime": {
     "end_time": "2024-02-14T06:54:09.832189900Z",
     "start_time": "2024-02-14T06:54:09.533646600Z"
    }
   },
   "id": "f61fe2e3157a3c5",
   "execution_count": 87
  },
  {
   "cell_type": "code",
   "outputs": [
    {
     "data": {
      "text/plain": "((1470960, 8), (1470960, 2))"
     },
     "execution_count": 88,
     "metadata": {},
     "output_type": "execute_result"
    }
   ],
   "source": [
    "X.shape, Y.shape"
   ],
   "metadata": {
    "collapsed": false,
    "ExecuteTime": {
     "end_time": "2024-02-14T06:54:10.795217700Z",
     "start_time": "2024-02-14T06:54:10.790742Z"
    }
   },
   "id": "bc975a2c45a50624",
   "execution_count": 88
  },
  {
   "cell_type": "code",
   "outputs": [],
   "source": "x_unlab, x_train, x_test, y_train, y_test = split_data(X, Y, label_data_rate, test_size=0.15)",
   "metadata": {
    "collapsed": false,
    "ExecuteTime": {
     "end_time": "2024-02-14T06:54:13.298107700Z",
     "start_time": "2024-02-14T06:54:13.045500100Z"
    }
   },
   "id": "8cff88b8f981d1b0",
   "execution_count": 89
  },
  {
   "cell_type": "code",
   "outputs": [
    {
     "data": {
      "text/plain": "((1125285, 8), (125031, 8), (220644, 8), (125031, 2), (220644, 2))"
     },
     "execution_count": 90,
     "metadata": {},
     "output_type": "execute_result"
    }
   ],
   "source": [
    "x_unlab.shape, x_train.shape, x_test.shape, y_train.shape, y_test.shape"
   ],
   "metadata": {
    "collapsed": false,
    "ExecuteTime": {
     "end_time": "2024-02-14T06:54:14.027031500Z",
     "start_time": "2024-02-14T06:54:14.021066400Z"
    }
   },
   "id": "3d67133b1fcf5ec4",
   "execution_count": 90
  },
  {
   "cell_type": "code",
   "outputs": [],
   "source": [
    "#logistic regression\n",
    "logistic_arousal_acc = []\n",
    "logistic_arousal_auc = []\n",
    "y_test_hat = logit(x_train, y_train, x_test)\n",
    "logistic_arousal_acc.append(perf_metric(metric1, y_test, y_test_hat))\n",
    "logistic_arousal_auc.append(perf_metric(metric2, y_test, y_test_hat))"
   ],
   "metadata": {
    "collapsed": false,
    "ExecuteTime": {
     "end_time": "2024-02-14T06:54:30.625277400Z",
     "start_time": "2024-02-14T06:54:30.349990400Z"
    }
   },
   "id": "dfb475b6b737e17d",
   "execution_count": 94
  },
  {
   "cell_type": "code",
   "outputs": [
    {
     "data": {
      "text/plain": "[0.6805804825873353]"
     },
     "execution_count": 95,
     "metadata": {},
     "output_type": "execute_result"
    }
   ],
   "source": [
    "logistic_arousal_acc"
   ],
   "metadata": {
    "collapsed": false,
    "ExecuteTime": {
     "end_time": "2024-02-14T06:54:31.076006300Z",
     "start_time": "2024-02-14T06:54:31.074483Z"
    }
   },
   "id": "35aaea14b378ac09",
   "execution_count": 95
  },
  {
   "cell_type": "code",
   "outputs": [
    {
     "data": {
      "text/plain": "[0.5619202841925236]"
     },
     "execution_count": 93,
     "metadata": {},
     "output_type": "execute_result"
    }
   ],
   "source": [
    "logistic_arousal_auc"
   ],
   "metadata": {
    "collapsed": false,
    "ExecuteTime": {
     "end_time": "2024-02-14T06:54:27.527708900Z",
     "start_time": "2024-02-14T06:54:27.524882400Z"
    }
   },
   "id": "f507a0280f2b472",
   "execution_count": 93
  },
  {
   "cell_type": "markdown",
   "source": [
    "## XGBoost Model"
   ],
   "metadata": {
    "collapsed": false
   },
   "id": "2252f6a4ec6988f9"
  },
  {
   "cell_type": "markdown",
   "source": [
    "### Valence Accuracy using XGBoost"
   ],
   "metadata": {
    "collapsed": false
   },
   "id": "20d1fea344ae96b6"
  },
  {
   "cell_type": "code",
   "outputs": [],
   "source": [
    "#load case dataset\n",
    "df = pd.read_csv(\"..\\Data\\CASE_2class.csv\")"
   ],
   "metadata": {
    "collapsed": false,
    "ExecuteTime": {
     "end_time": "2024-03-21T07:07:45.861977500Z",
     "start_time": "2024-03-21T07:07:45.055657700Z"
    }
   },
   "id": "6a235d2581ca5407",
   "execution_count": 5
  },
  {
   "cell_type": "code",
   "outputs": [],
   "source": [
    "X, Y = one_hot_encode(df, 'class1')"
   ],
   "metadata": {
    "collapsed": false,
    "ExecuteTime": {
     "end_time": "2024-03-21T07:07:46.139056900Z",
     "start_time": "2024-03-21T07:07:45.863253800Z"
    }
   },
   "id": "4abb71cd5c52b204",
   "execution_count": 6
  },
  {
   "cell_type": "code",
   "outputs": [],
   "source": [
    "#For valence\n",
    "xgboost_valence_acc = []\n",
    "xgboost_valence_auc = []\n",
    "\n",
    "for i in range (0, 5):\n",
    "    x_unlab, x_train, x_test, y_train, y_test = split_data(X, Y, label_data_rate, test_size=0.15)\n",
    "    \n",
    "    y_test_hat = xgb_model(x_train, y_train, x_test)\n",
    "    xgboost_valence_acc.append(perf_metric(metric1, y_test, y_test_hat))\n",
    "    xgboost_valence_auc.append(perf_metric(metric2, y_test, y_test_hat))"
   ],
   "metadata": {
    "collapsed": false,
    "ExecuteTime": {
     "end_time": "2024-02-16T05:01:41.253108100Z",
     "start_time": "2024-02-16T05:01:26.636442Z"
    }
   },
   "id": "984cb3b2c8b4d8f2",
   "execution_count": 11
  },
  {
   "cell_type": "code",
   "outputs": [
    {
     "data": {
      "text/plain": "[0.9180897735719077,\n 0.9237323471293124,\n 0.9228576349232247,\n 0.9213756095792317,\n 0.919589927666286]"
     },
     "execution_count": 12,
     "metadata": {},
     "output_type": "execute_result"
    }
   ],
   "source": [
    "xgboost_valence_acc"
   ],
   "metadata": {
    "collapsed": false,
    "ExecuteTime": {
     "end_time": "2024-02-16T05:01:41.262549800Z",
     "start_time": "2024-02-16T05:01:41.257189600Z"
    }
   },
   "id": "63fa0f7af7bbfff",
   "execution_count": 12
  },
  {
   "cell_type": "code",
   "outputs": [
    {
     "data": {
      "text/plain": "[0.9701262251350858,\n 0.9706931109094453,\n 0.9715748127704218,\n 0.9713079651254548,\n 0.9705962091725275]"
     },
     "execution_count": 13,
     "metadata": {},
     "output_type": "execute_result"
    }
   ],
   "source": [
    "xgboost_valence_auc"
   ],
   "metadata": {
    "collapsed": false,
    "ExecuteTime": {
     "end_time": "2024-02-16T05:01:41.266682300Z",
     "start_time": "2024-02-16T05:01:41.260100400Z"
    }
   },
   "id": "80e416a0c92e465c",
   "execution_count": 13
  },
  {
   "cell_type": "code",
   "outputs": [
    {
     "name": "stdout",
     "output_type": "stream",
     "text": [
      "Average Valence Accuracy on CASE dataset using XGBoost Model is:  0.9211\n",
      "Average Valence Accuracy  AUC SCore on CASE dataset using XGBoost Model is:  0.9709\n",
      "Standard Deviation of arousal Accuracies using SLAB:  0.0021\n"
     ]
    }
   ],
   "source": [
    "#Average Valence Accuracy using XGBoost model\n",
    "print(\"Average Valence Accuracy on CASE dataset using XGBoost Model is: \", round(np.mean(xgboost_valence_acc),4))\n",
    "\n",
    "print(\"Average Valence Accuracy  AUC SCore on CASE dataset using XGBoost Model is: \", round(np.mean(xgboost_valence_auc),4))\n",
    "\n",
    "print(\"Standard Deviation of arousal Accuracies using SLAB: \", round(np.std(xgboost_valence_acc),4))"
   ],
   "metadata": {
    "collapsed": false,
    "ExecuteTime": {
     "end_time": "2024-02-16T05:41:05.231770700Z",
     "start_time": "2024-02-16T05:41:05.226135Z"
    }
   },
   "id": "388eb5bfa2b4799c",
   "execution_count": 16
  },
  {
   "cell_type": "markdown",
   "source": [
    "### Arousal Accuracy using XGBoost"
   ],
   "metadata": {
    "collapsed": false
   },
   "id": "e67c4edcc26768ce"
  },
  {
   "cell_type": "code",
   "outputs": [],
   "source": [
    "#load case dataset\n",
    "df = pd.read_csv(\"..\\Data\\CASE_2class.csv\")"
   ],
   "metadata": {
    "collapsed": false,
    "ExecuteTime": {
     "end_time": "2024-02-14T07:32:29.011658600Z",
     "start_time": "2024-02-14T07:32:28.283060900Z"
    }
   },
   "id": "f20373f2484a9676",
   "execution_count": 55
  },
  {
   "cell_type": "code",
   "outputs": [],
   "source": [
    "X, Y = one_hot_encode(df, 'class2')"
   ],
   "metadata": {
    "collapsed": false,
    "ExecuteTime": {
     "end_time": "2024-02-14T07:40:53.040781900Z",
     "start_time": "2024-02-14T07:40:52.752184Z"
    }
   },
   "id": "9509f22045a3855f",
   "execution_count": 57
  },
  {
   "cell_type": "code",
   "outputs": [],
   "source": [
    "#For valence\n",
    "xgboost_arousal_acc = []\n",
    "xgboost_arousal_auc = []\n",
    "\n",
    "for i in range (0, 5):\n",
    "    x_unlab, x_train, x_test, y_train, y_test = split_data(X, Y, label_data_rate, test_size=0.15)\n",
    "    \n",
    "    y_test_hat = xgb_model(x_train, y_train, x_test)\n",
    "    xgboost_arousal_acc.append(perf_metric(metric1, y_test, y_test_hat))\n",
    "    xgboost_arousal_auc.append(perf_metric(metric2, y_test, y_test_hat))"
   ],
   "metadata": {
    "collapsed": false,
    "ExecuteTime": {
     "end_time": "2024-02-14T07:41:12.809401100Z",
     "start_time": "2024-02-14T07:40:58.983334100Z"
    }
   },
   "id": "d425eaa1bb6863a9",
   "execution_count": 58
  },
  {
   "cell_type": "code",
   "outputs": [
    {
     "data": {
      "text/plain": "[0.9134352169104983,\n 0.9127010025198963,\n 0.9120438353184315,\n 0.9121933975091097,\n 0.9186744257718316]"
     },
     "execution_count": 59,
     "metadata": {},
     "output_type": "execute_result"
    }
   ],
   "source": [
    "xgboost_arousal_acc"
   ],
   "metadata": {
    "collapsed": false,
    "ExecuteTime": {
     "end_time": "2024-02-14T07:41:31.619306700Z",
     "start_time": "2024-02-14T07:41:31.614595700Z"
    }
   },
   "id": "96f743b55a1d7f2d",
   "execution_count": 59
  },
  {
   "cell_type": "code",
   "outputs": [
    {
     "data": {
      "text/plain": "[0.9664071015620949,\n 0.9652240022633946,\n 0.9648969143594377,\n 0.9640528755222806,\n 0.969683191703373]"
     },
     "execution_count": 60,
     "metadata": {},
     "output_type": "execute_result"
    }
   ],
   "source": [
    "xgboost_arousal_auc"
   ],
   "metadata": {
    "collapsed": false,
    "ExecuteTime": {
     "end_time": "2024-02-14T07:41:40.304060500Z",
     "start_time": "2024-02-14T07:41:40.298339Z"
    }
   },
   "id": "2a8bcc9e081a4df2",
   "execution_count": 60
  },
  {
   "cell_type": "code",
   "outputs": [
    {
     "name": "stdout",
     "output_type": "stream",
     "text": [
      "Average Arousal Accuracy on CASE dataset using XGBoost Model is:  0.9138095756059534\n"
     ]
    }
   ],
   "source": [
    "#Average Valence Accuracy using XGBoost model\n",
    "print(\"Average Arousal Accuracy on CASE dataset using XGBoost Model is: \", np.mean(xgboost_arousal_acc))"
   ],
   "metadata": {
    "collapsed": false,
    "ExecuteTime": {
     "end_time": "2024-02-14T07:42:10.293932400Z",
     "start_time": "2024-02-14T07:42:10.277846500Z"
    }
   },
   "id": "85583ef1131fe7b4",
   "execution_count": 61
  },
  {
   "cell_type": "markdown",
   "source": "## MLP Baseline",
   "metadata": {
    "collapsed": false
   },
   "id": "f628ddba2900cae1"
  },
  {
   "cell_type": "code",
   "outputs": [],
   "source": [
    "#load case dataset\n",
    "df = pd.read_csv(\"..\\Data\\CASE_2class.csv\")"
   ],
   "metadata": {
    "collapsed": false,
    "ExecuteTime": {
     "end_time": "2024-02-26T07:11:17.661636400Z",
     "start_time": "2024-02-26T07:11:16.834741400Z"
    }
   },
   "id": "5be2d654dc09c3b3",
   "execution_count": 7
  },
  {
   "cell_type": "code",
   "outputs": [],
   "source": [
    "mlp_parameters = dict()\n",
    "mlp_parameters['hidden_dim'] = 100\n",
    "mlp_parameters['epochs'] = 100\n",
    "mlp_parameters['activation'] = 'relu'\n",
    "mlp_parameters['batch_size'] = 128\n",
    "mlp_parameters['num_layers'] = 2"
   ],
   "metadata": {
    "collapsed": false,
    "ExecuteTime": {
     "end_time": "2024-03-21T04:58:28.205613400Z",
     "start_time": "2024-03-21T04:58:28.193822700Z"
    }
   },
   "id": "2b2f629f05581e6b",
   "execution_count": 12
  },
  {
   "cell_type": "markdown",
   "source": [
    "### MLP Valence Accuracy for CASE dataset"
   ],
   "metadata": {
    "collapsed": false
   },
   "id": "c904c422b05c49b4"
  },
  {
   "cell_type": "code",
   "outputs": [],
   "source": [
    "X, y = one_hot_encode(df, 'class1')"
   ],
   "metadata": {
    "collapsed": false,
    "ExecuteTime": {
     "end_time": "2024-02-26T07:11:23.911988900Z",
     "start_time": "2024-02-26T07:11:23.639970900Z"
    }
   },
   "id": "44a46d6954de584d",
   "execution_count": 9
  },
  {
   "cell_type": "code",
   "outputs": [],
   "source": "x_unlab, x_train, x_test, y_train, y_test = split_data(X, y, label_data_rate, test_size=0.15)",
   "metadata": {
    "collapsed": false,
    "ExecuteTime": {
     "end_time": "2024-02-26T07:11:27.645199800Z",
     "start_time": "2024-02-26T07:11:27.414453500Z"
    }
   },
   "id": "d8191b080bbd3e7e",
   "execution_count": 10
  },
  {
   "cell_type": "code",
   "outputs": [
    {
     "name": "stdout",
     "output_type": "stream",
     "text": [
      "In supervised_models.py!\n",
      "WARNING:tensorflow:From C:\\Users\\Alfiya\\anaconda3\\Lib\\site-packages\\keras\\src\\backend.py:277: The name tf.reset_default_graph is deprecated. Please use tf.compat.v1.reset_default_graph instead.\n",
      "WARNING:tensorflow:From C:\\Users\\Alfiya\\anaconda3\\Lib\\site-packages\\keras\\src\\optimizers\\__init__.py:309: The name tf.train.Optimizer is deprecated. Please use tf.compat.v1.train.Optimizer instead.\n",
      "WARNING:tensorflow:From C:\\Users\\Alfiya\\anaconda3\\Lib\\site-packages\\keras\\src\\utils\\tf_utils.py:492: The name tf.ragged.RaggedTensorValue is deprecated. Please use tf.compat.v1.ragged.RaggedTensorValue instead.\n",
      "WARNING:tensorflow:From C:\\Users\\Alfiya\\anaconda3\\Lib\\site-packages\\keras\\src\\engine\\base_layer_utils.py:384: The name tf.executing_eagerly_outside_functions is deprecated. Please use tf.compat.v1.executing_eagerly_outside_functions instead.\n",
      "6896/6896 [==============================] - 4s 564us/step\n",
      "In supervised_models.py!\n",
      "6896/6896 [==============================] - 4s 574us/step\n",
      "In supervised_models.py!\n",
      "6896/6896 [==============================] - 4s 561us/step\n",
      "In supervised_models.py!\n",
      "6896/6896 [==============================] - 4s 554us/step\n",
      "In supervised_models.py!\n",
      "6896/6896 [==============================] - 4s 563us/step\n"
     ]
    }
   ],
   "source": [
    "mlp_valence_acc = []\n",
    "mlp_valence_auc = []\n",
    "\n",
    "for i in range (0, 5):\n",
    "    y_test_hat = mlp(x_train, y_train, x_test, mlp_parameters)\n",
    "    mlp_valence_acc.append(perf_metric(metric1, y_test, y_test_hat))\n",
    "    mlp_valence_auc.append(perf_metric(metric2, y_test, y_test_hat))"
   ],
   "metadata": {
    "collapsed": false,
    "ExecuteTime": {
     "end_time": "2024-02-26T07:19:25.526905700Z",
     "start_time": "2024-02-26T07:11:35.423857700Z"
    }
   },
   "id": "f63dc6c68dfc8be8",
   "execution_count": 11
  },
  {
   "cell_type": "code",
   "outputs": [
    {
     "data": {
      "text/plain": "array([0.8714, 0.8729, 0.8681, 0.8597, 0.8683])"
     },
     "execution_count": 12,
     "metadata": {},
     "output_type": "execute_result"
    }
   ],
   "source": [
    "np.round(mlp_valence_acc,4)"
   ],
   "metadata": {
    "collapsed": false,
    "ExecuteTime": {
     "end_time": "2024-02-26T07:19:25.534871500Z",
     "start_time": "2024-02-26T07:19:25.527930Z"
    }
   },
   "id": "fa0bf523cdab9995",
   "execution_count": 12
  },
  {
   "cell_type": "code",
   "outputs": [
    {
     "data": {
      "text/plain": "array([0.9332, 0.9363, 0.9302, 0.9222, 0.9321])"
     },
     "execution_count": 13,
     "metadata": {},
     "output_type": "execute_result"
    }
   ],
   "source": [
    "np.round(mlp_valence_auc, 4)"
   ],
   "metadata": {
    "collapsed": false,
    "ExecuteTime": {
     "end_time": "2024-02-26T07:19:25.539990300Z",
     "start_time": "2024-02-26T07:19:25.533784600Z"
    }
   },
   "id": "41e613aea08a88fd",
   "execution_count": 13
  },
  {
   "cell_type": "code",
   "outputs": [
    {
     "name": "stdout",
     "output_type": "stream",
     "text": [
      "Mean of valence accuracies for MLP is  0.8681\n",
      "Mean of valence accuracies AUC Score for MLP is  0.9308\n",
      "Standard Deviation of valence Accuracies using MLP baseline:  0.004578423536709249\n"
     ]
    }
   ],
   "source": [
    "print(\"Mean of valence accuracies for MLP is \",round(np.mean(mlp_valence_acc),4))\n",
    "\n",
    "print(\"Mean of valence accuracies AUC Score for MLP is \",round(np.mean(mlp_valence_auc), 4))\n",
    "\n",
    "# Compute standard deviation\n",
    "std_dev_acc = np.std(mlp_valence_acc)\n",
    "print(\"Standard Deviation of valence Accuracies using MLP baseline: \", std_dev_acc)"
   ],
   "metadata": {
    "collapsed": false,
    "ExecuteTime": {
     "end_time": "2024-02-26T07:29:12.638833700Z",
     "start_time": "2024-02-26T07:29:12.631653300Z"
    }
   },
   "id": "cd880f76ba5f6e06",
   "execution_count": 18
  },
  {
   "cell_type": "code",
   "outputs": [
    {
     "name": "stdout",
     "output_type": "stream",
     "text": [
      "Mean of arousal accuracies for MLP is  0.87\n",
      "Mean of arousal accuracies AUC Score for MLP is  0.9329\n",
      "Standard Deviation of arousal Accuracies using MLP baseline:  0.0039567462732572\n"
     ]
    }
   ],
   "source": [
    "print(\"Mean of arousal accuracies for MLP is \",round(np.mean(mlp_valence_acc),4))\n",
    "\n",
    "print(\"Mean of arousal accuracies AUC Score for MLP is \",round(np.mean(mlp_valence_auc), 4))\n",
    "\n",
    "# Compute standard deviation\n",
    "std_dev_acc = np.std(mlp_valence_acc)\n",
    "print(\"Standard Deviation of arousal Accuracies using MLP baseline: \", std_dev_acc)"
   ],
   "metadata": {
    "collapsed": false,
    "ExecuteTime": {
     "end_time": "2024-02-26T06:49:55.791341600Z",
     "start_time": "2024-02-26T06:49:55.783463100Z"
    }
   },
   "id": "f6b62a08fa8956ff",
   "execution_count": 15
  },
  {
   "cell_type": "markdown",
   "source": [
    "for 5 runs"
   ],
   "metadata": {
    "collapsed": false
   },
   "id": "c5e028a512812efc"
  },
  {
   "cell_type": "code",
   "outputs": [
    {
     "name": "stdout",
     "output_type": "stream",
     "text": [
      "Mean of arousal accuracies for MLP is  0.8695\n",
      "Mean of arousal accuracies AUC Score for MLP is  0.9314\n",
      "Standard Deviation of arousal Accuracies using MLP baseline:  0.004726429465268831\n"
     ]
    }
   ],
   "source": [
    "print(\"Mean of arousal accuracies for MLP is \",round(np.mean(mlp_valence_acc),4))\n",
    "\n",
    "print(\"Mean of arousal accuracies AUC Score for MLP is \",round(np.mean(mlp_valence_auc), 4))\n",
    "\n",
    "# Compute standard deviation\n",
    "std_dev_acc = np.std(mlp_valence_acc)\n",
    "print(\"Standard Deviation of arousal Accuracies using MLP baseline: \", std_dev_acc)"
   ],
   "metadata": {
    "collapsed": false,
    "ExecuteTime": {
     "end_time": "2024-02-26T06:26:47.531314400Z",
     "start_time": "2024-02-26T06:26:47.521202700Z"
    }
   },
   "id": "f1418371087dae77",
   "execution_count": 14
  },
  {
   "cell_type": "markdown",
   "source": [
    "### MLP Arousal Accuracy for CASE dataset"
   ],
   "metadata": {
    "collapsed": false
   },
   "id": "a4c887e5a1a462e0"
  },
  {
   "cell_type": "code",
   "outputs": [],
   "source": [
    "X, Y = one_hot_encode(df, 'class2')"
   ],
   "metadata": {
    "collapsed": false,
    "ExecuteTime": {
     "end_time": "2024-02-26T07:20:48.048319800Z",
     "start_time": "2024-02-26T07:20:47.755051300Z"
    }
   },
   "id": "359aa6e870d89daf",
   "execution_count": 15
  },
  {
   "cell_type": "code",
   "outputs": [],
   "source": "x_unlab, x_train, x_test, y_train, y_test = split_data(X, Y, label_data_rate, test_size=0.15)",
   "metadata": {
    "collapsed": false,
    "ExecuteTime": {
     "end_time": "2024-02-26T07:20:49.710195100Z",
     "start_time": "2024-02-26T07:20:49.466161500Z"
    }
   },
   "id": "1eea79d553f30afb",
   "execution_count": 16
  },
  {
   "cell_type": "code",
   "outputs": [
    {
     "name": "stdout",
     "output_type": "stream",
     "text": [
      "In supervised_models.py!\n",
      "6896/6896 [==============================] - 4s 553us/step\n",
      "In supervised_models.py!\n",
      "6896/6896 [==============================] - 4s 555us/step\n",
      "In supervised_models.py!\n",
      "6896/6896 [==============================] - 4s 560us/step\n",
      "In supervised_models.py!\n",
      "6896/6896 [==============================] - 4s 568us/step\n",
      "In supervised_models.py!\n",
      "6896/6896 [==============================] - 4s 569us/step\n"
     ]
    }
   ],
   "source": [
    "mlp_arousal_acc = []\n",
    "mlp_arousal_auc = []\n",
    "\n",
    "for i in range (0, 5):\n",
    "    y_test_hat = mlp(x_train, y_train, x_test, mlp_parameters)\n",
    "    mlp_arousal_acc.append(perf_metric(metric1, y_test, y_test_hat))\n",
    "    mlp_arousal_auc.append(perf_metric(metric2, y_test, y_test_hat))"
   ],
   "metadata": {
    "collapsed": false,
    "ExecuteTime": {
     "end_time": "2024-02-26T07:29:12.629318700Z",
     "start_time": "2024-02-26T07:20:57.232697500Z"
    }
   },
   "id": "3645eb06252b0077",
   "execution_count": 17
  },
  {
   "cell_type": "code",
   "outputs": [
    {
     "data": {
      "text/plain": "array([0.8556, 0.8592, 0.8568, 0.8567, 0.8585])"
     },
     "execution_count": 19,
     "metadata": {},
     "output_type": "execute_result"
    }
   ],
   "source": [
    "np.round(mlp_arousal_acc,4)"
   ],
   "metadata": {
    "collapsed": false,
    "ExecuteTime": {
     "end_time": "2024-02-26T07:38:42.075627100Z",
     "start_time": "2024-02-26T07:38:42.068344800Z"
    }
   },
   "id": "c76ce2e18f97bf03",
   "execution_count": 19
  },
  {
   "cell_type": "code",
   "outputs": [
    {
     "data": {
      "text/plain": "array([0.924 , 0.9258, 0.9217, 0.9238, 0.9238])"
     },
     "execution_count": 20,
     "metadata": {},
     "output_type": "execute_result"
    }
   ],
   "source": [
    "np.round(mlp_arousal_auc, 4)"
   ],
   "metadata": {
    "collapsed": false,
    "ExecuteTime": {
     "end_time": "2024-02-26T07:38:43.532783200Z",
     "start_time": "2024-02-26T07:38:43.525463500Z"
    }
   },
   "id": "74c0be2a15977e16",
   "execution_count": 20
  },
  {
   "cell_type": "code",
   "outputs": [
    {
     "name": "stdout",
     "output_type": "stream",
     "text": [
      "Mean of arousal accuracies for MLP is  0.8573\n",
      "Mean of arousal accuracies AUC Score for MLP is  0.9238\n",
      "Standard Deviation of arousal Accuracies using MLP baseline:  0.0013176702356679972\n"
     ]
    }
   ],
   "source": [
    "print(\"Mean of arousal accuracies for MLP is \",round(np.mean(mlp_arousal_acc),4))\n",
    "\n",
    "print(\"Mean of arousal accuracies AUC Score for MLP is \",round(np.mean(mlp_arousal_auc), 4))\n",
    "\n",
    "# Compute standard deviation\n",
    "std_dev_acc = np.std(mlp_arousal_acc)\n",
    "print(\"Standard Deviation of arousal Accuracies using MLP baseline: \", std_dev_acc)"
   ],
   "metadata": {
    "collapsed": false,
    "ExecuteTime": {
     "end_time": "2024-02-26T07:38:44.517074900Z",
     "start_time": "2024-02-26T07:38:44.508979800Z"
    }
   },
   "id": "b1f05f9a8def17d7",
   "execution_count": 21
  }
 ],
 "metadata": {
  "kernelspec": {
   "display_name": "Python 3",
   "language": "python",
   "name": "python3"
  },
  "language_info": {
   "codemirror_mode": {
    "name": "ipython",
    "version": 2
   },
   "file_extension": ".py",
   "mimetype": "text/x-python",
   "name": "python",
   "nbconvert_exporter": "python",
   "pygments_lexer": "ipython2",
   "version": "2.7.6"
  }
 },
 "nbformat": 4,
 "nbformat_minor": 5
}
