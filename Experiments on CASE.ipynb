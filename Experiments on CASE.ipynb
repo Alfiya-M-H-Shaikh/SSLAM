{
 "cells": [
  {
   "cell_type": "code",
   "outputs": [
    {
     "name": "stdout",
     "output_type": "stream",
     "text": [
      "[WinError 3] The system cannot find the path specified: 'C:\\\\Users\\\\alfiy\\\\Desktop\\\\BITS\\\\SLAB\\\\SLAB-main\\\\Code'\n",
      "C:\\Users\\Alfiya\\Desktop\\SLAB-main\\Code\\Notebooks\n"
     ]
    }
   ],
   "source": [
    "#for laptop usage\n",
    "cd C:\\Users\\alfiy\\Desktop\\BITS\\SLAB\\SLAB-main\\Code"
   ],
   "metadata": {
    "collapsed": false,
    "ExecuteTime": {
     "end_time": "2024-02-15T03:58:05.002222300Z",
     "start_time": "2024-02-15T03:58:04.997624100Z"
    }
   },
   "id": "d48e6620a089940d",
   "execution_count": 1
  },
  {
   "cell_type": "code",
   "outputs": [
    {
     "name": "stdout",
     "output_type": "stream",
     "text": [
      "C:\\Users\\Alfiya\\Desktop\\SLAB-main\\Code\n"
     ]
    }
   ],
   "source": [
    "cd C:\\Users\\Alfiya\\Desktop\\SLAB-main\\Code"
   ],
   "metadata": {
    "collapsed": false,
    "ExecuteTime": {
     "end_time": "2024-02-17T07:00:07.026335Z",
     "start_time": "2024-02-17T07:00:07.023084300Z"
    }
   },
   "id": "5616c220b265a7c8",
   "execution_count": 1
  },
  {
   "cell_type": "code",
   "outputs": [
    {
     "name": "stdout",
     "output_type": "stream",
     "text": [
      "WARNING:tensorflow:From C:\\Users\\Alfiya\\anaconda3\\Lib\\site-packages\\keras\\src\\losses.py:2976: The name tf.losses.sparse_softmax_cross_entropy is deprecated. Please use tf.compat.v1.losses.sparse_softmax_cross_entropy instead.\n"
     ]
    }
   ],
   "source": [
    "import os\n",
    "#Necessary packages\n",
    "import warnings\n",
    "warnings.filterwarnings(\"ignore\")\n",
    "\n",
    "import pandas as pd\n",
    "import numpy as np\n",
    "import os\n",
    "import joblib \n",
    "from sklearn.preprocessing import OneHotEncoder\n",
    "from sklearn.model_selection import train_test_split\n",
    "from keras.models import load_model\n",
    "\n",
    "from supervised_models import logit, xgb_model, mlp\n",
    "from utils import perf_metric\n",
    "from VIME.vime_self import vime_self\n",
    "from hexr_self import hexr_self"
   ],
   "metadata": {
    "collapsed": true,
    "ExecuteTime": {
     "end_time": "2024-02-17T07:00:10.707213700Z",
     "start_time": "2024-02-17T07:00:07.603589300Z"
    }
   },
   "id": "initial_id",
   "execution_count": 2
  },
  {
   "cell_type": "markdown",
   "source": [
    "# CASE dataset"
   ],
   "metadata": {
    "collapsed": false
   },
   "id": "55261a9455f063c"
  },
  {
   "cell_type": "code",
   "outputs": [
    {
     "data": {
      "text/plain": "'C:\\\\Users\\\\Alfiya\\\\Desktop\\\\SLAB-main\\\\Code'"
     },
     "execution_count": 269,
     "metadata": {},
     "output_type": "execute_result"
    }
   ],
   "source": [
    "os.getcwd()"
   ],
   "metadata": {
    "collapsed": false,
    "ExecuteTime": {
     "end_time": "2024-02-14T07:08:56.126831500Z",
     "start_time": "2024-02-14T07:08:56.116674100Z"
    }
   },
   "id": "6804811397a5848e",
   "execution_count": 269
  },
  {
   "cell_type": "code",
   "outputs": [],
   "source": [
    "#load case dataset\n",
    "df = pd.read_csv(\"..\\Data\\CASE_2class.csv\")"
   ],
   "metadata": {
    "collapsed": false
   },
   "id": "6ff3f0f8a55c71d8",
   "execution_count": 3
  },
  {
   "cell_type": "markdown",
   "source": [
    "valence"
   ],
   "metadata": {
    "collapsed": false
   },
   "id": "3a2bda65da3e7f8c"
  },
  {
   "cell_type": "code",
   "outputs": [],
   "source": [
    "#one-hot encode class column\n",
    "ohe = OneHotEncoder()\n",
    "#Choose either class1 or class2 to select either valence or arousal\n",
    "df_ohe = pd.DataFrame(ohe.fit_transform(df[['class1']]).toarray())\n",
    "df = df.join(df_ohe)\n",
    "\n",
    "df.drop('class1', axis=1, inplace=True)\n",
    "df.drop('class2', axis=1, inplace=True)\n",
    "df.drop('Unnamed: 0', axis=1, inplace=True)\n",
    "df.drop('valence', axis=1, inplace=True)\n",
    "df.drop('arousal', axis=1, inplace=True)"
   ],
   "metadata": {
    "collapsed": false
   },
   "id": "fcb159ba58494916",
   "execution_count": 4
  },
  {
   "cell_type": "code",
   "outputs": [
    {
     "data": {
      "text/plain": "Index(['ecg', 'bvp', 'gsr', 'rsp', 'skt', 'emg_zygo', 'emg_coru', 'emg_trap',\n       0, 1],\n      dtype='object')"
     },
     "execution_count": 41,
     "metadata": {},
     "output_type": "execute_result"
    }
   ],
   "source": [
    "df.columns"
   ],
   "metadata": {
    "collapsed": false
   },
   "id": "50dc87ab202ca30",
   "execution_count": 41
  },
  {
   "cell_type": "code",
   "outputs": [],
   "source": [
    "X = df.loc[:,:'emg_trap']\n",
    "Y = df.iloc[:,8:]"
   ],
   "metadata": {
    "collapsed": false
   },
   "id": "afe24dc096dbb320",
   "execution_count": 5
  },
  {
   "cell_type": "code",
   "outputs": [],
   "source": [
    "#Experimental parameters\n",
    "label_data_rate = 0.1\n",
    "\n",
    "#Metrics\n",
    "metric1 = 'acc'\n",
    "metric2 = 'auc'"
   ],
   "metadata": {
    "collapsed": false
   },
   "id": "9a30de9f3bab1149",
   "execution_count": 6
  },
  {
   "cell_type": "markdown",
   "source": [
    "## Train-Test split without normalizing"
   ],
   "metadata": {
    "collapsed": false
   },
   "id": "23f0dcd83f29e642"
  },
  {
   "cell_type": "code",
   "outputs": [
    {
     "data": {
      "text/plain": "((1250316, 8), (220644, 8), (1250316, 2), (220644, 2))"
     },
     "execution_count": 7,
     "metadata": {},
     "output_type": "execute_result"
    }
   ],
   "source": [
    "\"\"\"\n",
    "Train-test split\n",
    "15% :- Test \n",
    "10% of 85% = 8.5% :- Labelled dataset\n",
    "90% of 85% = 76.5% :- Unlabelled dataset\n",
    "\"\"\"\n",
    "rng_state = np.random.get_state()\n",
    "x_train, x_test, y_train, y_test = train_test_split(X, Y, test_size=0.15, random_state=33) \n",
    "\n",
    "#converting to numpy arrays\n",
    "x_train = x_train.iloc[:, :].values\n",
    "y_train = y_train.iloc[:, :].values\n",
    "x_test = x_test.iloc[:,:].values\n",
    "y_test = y_test.iloc[:,:].values\n",
    "x_train.shape, x_test.shape, y_train.shape, y_test.shape"
   ],
   "metadata": {
    "collapsed": false
   },
   "id": "998692ef47231cc3",
   "execution_count": 7
  },
  {
   "cell_type": "markdown",
   "source": [
    "## Train-Test split with normalization"
   ],
   "metadata": {
    "collapsed": false
   },
   "id": "4345ece02c453920"
  },
  {
   "cell_type": "code",
   "outputs": [
    {
     "data": {
      "text/plain": "((1250316, 8), (220644, 8), (1250316, 2), (220644, 2))"
     },
     "execution_count": 8,
     "metadata": {},
     "output_type": "execute_result"
    }
   ],
   "source": [
    "from sklearn.preprocessing import MinMaxScaler\n",
    "\n",
    "scaler = MinMaxScaler()\n",
    "\n",
    "X[['ecg', 'bvp', 'gsr', 'rsp', 'skt', 'emg_zygo', 'emg_coru', 'emg_trap']] = scaler.fit_transform(X[['ecg', 'bvp', 'gsr', 'rsp', 'skt', 'emg_zygo', 'emg_coru', 'emg_trap']])\n",
    "\n",
    "\"\"\"\n",
    "Train-test split\n",
    "15% :- Test \n",
    "10% of 85% = 8.5% :- Labelled dataset\n",
    "90% of 85% = 76.5% :- Unlabelled dataset\n",
    "\"\"\"\n",
    "rng_state = np.random.get_state()\n",
    "x_train, x_test, y_train, y_test = train_test_split(X, Y, test_size=0.15, random_state=33) \n",
    "\n",
    "#converting to numpy arrays\n",
    "x_train = x_train.iloc[:, :].values\n",
    "y_train = y_train.iloc[:, :].values\n",
    "x_test = x_test.iloc[:,:].values\n",
    "y_test = y_test.iloc[:,:].values\n",
    "x_train.shape, x_test.shape, y_train.shape, y_test.shape"
   ],
   "metadata": {
    "collapsed": false
   },
   "id": "48a013555b7d7c0a",
   "execution_count": 8
  },
  {
   "cell_type": "code",
   "outputs": [],
   "source": [
    "# Divide labeled and unlabeled data\n",
    "idx = np.random.permutation(len(y_train))\n",
    "\n",
    "# Label data : Unlabeled data = label_data_rate:(1-label_data_rate)\n",
    "label_idx = idx[:int(len(idx)*label_data_rate)]\n",
    "unlab_idx = idx[int(len(idx)*label_data_rate):]\n",
    "\n",
    "# Unlabeled data\n",
    "x_unlab = x_train[unlab_idx, :]\n",
    "\n",
    "# Labeled data\n",
    "x_train = x_train[label_idx, :] \n",
    "y_train = y_train[label_idx, :]"
   ],
   "metadata": {
    "collapsed": false
   },
   "id": "b01a653dfe329e02",
   "execution_count": 8
  },
  {
   "cell_type": "code",
   "outputs": [
    {
     "data": {
      "text/plain": "((1125285, 8), (125031, 8), (125031, 2))"
     },
     "execution_count": 14,
     "metadata": {},
     "output_type": "execute_result"
    }
   ],
   "source": [
    "x_unlab.shape, x_train.shape, y_train.shape"
   ],
   "metadata": {
    "collapsed": false
   },
   "id": "72dc083db7bc9182",
   "execution_count": 14
  },
  {
   "cell_type": "code",
   "outputs": [],
   "source": [
    "#parameters to train the encoder\n",
    "p_m = 0.3\n",
    "alpha = 2.0"
   ],
   "metadata": {
    "collapsed": false
   },
   "id": "3258b8f444bcfb48",
   "execution_count": 9
  },
  {
   "cell_type": "code",
   "outputs": [],
   "source": [
    "#logistic regression\n",
    "logistic_acc = []\n",
    "logistic_auc = []\n",
    "y_test_hat = logit(x_train, y_train, x_test)\n",
    "logistic_acc.append(perf_metric(metric1, y_test, y_test_hat))\n",
    "logistic_auc.append(perf_metric(metric2, y_test, y_test_hat))"
   ],
   "metadata": {
    "collapsed": false,
    "ExecuteTime": {
     "end_time": "2024-02-14T06:39:42.024609400Z",
     "start_time": "2024-02-14T06:39:41.752990400Z"
    }
   },
   "id": "e7cce9f77c6ca9",
   "execution_count": 255
  },
  {
   "cell_type": "code",
   "outputs": [
    {
     "data": {
      "text/plain": "[0.690138866227951]"
     },
     "execution_count": 256,
     "metadata": {},
     "output_type": "execute_result"
    }
   ],
   "source": [
    "logistic_acc"
   ],
   "metadata": {
    "collapsed": false,
    "ExecuteTime": {
     "end_time": "2024-02-14T06:39:43.267886800Z",
     "start_time": "2024-02-14T06:39:43.265474300Z"
    }
   },
   "id": "275c9dae7fe781fb",
   "execution_count": 256
  },
  {
   "cell_type": "code",
   "outputs": [
    {
     "data": {
      "text/plain": "[0.5442909873265825]"
     },
     "execution_count": 31,
     "metadata": {},
     "output_type": "execute_result"
    }
   ],
   "source": [
    "logistic_auc"
   ],
   "metadata": {
    "collapsed": false,
    "ExecuteTime": {
     "end_time": "2024-02-14T04:55:17.650695700Z",
     "start_time": "2024-02-14T04:55:17.647391800Z"
    }
   },
   "id": "980a01cfd79954ad",
   "execution_count": 31
  },
  {
   "cell_type": "markdown",
   "source": [
    "## XGBoost Model"
   ],
   "metadata": {
    "collapsed": false
   },
   "id": "8e3dc20648b6d51d"
  },
  {
   "cell_type": "code",
   "outputs": [],
   "source": [
    "#For valence\n",
    "xgboost_valence_acc = []\n",
    "xgboost_valence_auc = []\n",
    "\n",
    "y_test_hat = xgb_model(x_train, y_train, x_test)\n",
    "xgboost_valence_acc.append(perf_metric(metric1, y_test, y_test_hat))\n",
    "xgboost_valence_auc.append(perf_metric(metric2, y_test, y_test_hat))"
   ],
   "metadata": {
    "collapsed": false,
    "ExecuteTime": {
     "end_time": "2024-02-14T07:44:43.065368100Z",
     "start_time": "2024-02-14T07:44:40.622391200Z"
    }
   },
   "id": "6901a55fa940efaf",
   "execution_count": 28
  },
  {
   "cell_type": "code",
   "outputs": [
    {
     "data": {
      "text/plain": "[0.9152073022606552]"
     },
     "execution_count": 29,
     "metadata": {},
     "output_type": "execute_result"
    }
   ],
   "source": [
    "xgboost_valence_acc"
   ],
   "metadata": {
    "collapsed": false,
    "ExecuteTime": {
     "end_time": "2024-02-14T07:44:43.677012100Z",
     "start_time": "2024-02-14T07:44:43.673932700Z"
    }
   },
   "id": "90a13b394f445f7a",
   "execution_count": 29
  },
  {
   "cell_type": "code",
   "outputs": [
    {
     "data": {
      "text/plain": "[0.9689981682631682]"
     },
     "execution_count": 23,
     "metadata": {},
     "output_type": "execute_result"
    }
   ],
   "source": [
    "xgboost_valence_auc"
   ],
   "metadata": {
    "collapsed": false,
    "ExecuteTime": {
     "end_time": "2024-02-14T07:44:17.268297200Z",
     "start_time": "2024-02-14T07:44:17.265253800Z"
    }
   },
   "id": "1ffae8c835bfa3cd",
   "execution_count": 23
  },
  {
   "cell_type": "markdown",
   "source": [
    "## MLP"
   ],
   "metadata": {
    "collapsed": false
   },
   "id": "873f89b9a1506af8"
  },
  {
   "cell_type": "code",
   "outputs": [],
   "source": [
    "mlp_parameters = dict()\n",
    "mlp_parameters['hidden_dim'] = 100\n",
    "mlp_parameters['epochs'] = 100\n",
    "mlp_parameters['activation'] = 'relu'\n",
    "mlp_parameters['batch_size'] = 128\n",
    "mlp_parameters['num_layers'] = 1"
   ],
   "metadata": {
    "collapsed": false,
    "ExecuteTime": {
     "end_time": "2024-02-14T10:19:21.531028Z",
     "start_time": "2024-02-14T10:19:21.527429800Z"
    }
   },
   "id": "edfa6c93fe1ce11a",
   "execution_count": 10
  },
  {
   "cell_type": "code",
   "outputs": [
    {
     "name": "stdout",
     "output_type": "stream",
     "text": [
      "6896/6896 [==============================] - 3s 471us/step\n",
      "6896/6896 [==============================] - 3s 475us/step\n",
      "6896/6896 [==============================] - 3s 486us/step\n",
      "6896/6896 [==============================] - 3s 499us/step\n",
      "6896/6896 [==============================] - 3s 476us/step\n"
     ]
    }
   ],
   "source": [
    "mlp_valence_acc = []\n",
    "mlp_valence_auc = []\n",
    "\n",
    "for i in range (0, 5):\n",
    "    y_test_hat = mlp(x_train, y_train, x_test, mlp_parameters)\n",
    "    mlp_valence_acc.append(perf_metric(metric1, y_test, y_test_hat))\n",
    "    mlp_valence_auc.append(perf_metric(metric2, y_test, y_test_hat))"
   ],
   "metadata": {
    "collapsed": false,
    "ExecuteTime": {
     "end_time": "2024-02-14T10:32:19.593170400Z",
     "start_time": "2024-02-14T10:26:36.827251800Z"
    }
   },
   "id": "18829f00cedfd632",
   "execution_count": 22
  },
  {
   "cell_type": "code",
   "outputs": [
    {
     "data": {
      "text/plain": "[0.8197095774188285,\n 0.8092628850093363,\n 0.8076539584126466,\n 0.8142800166784504,\n 0.8141848407389278]"
     },
     "execution_count": 23,
     "metadata": {},
     "output_type": "execute_result"
    }
   ],
   "source": [
    "mlp_valence_acc"
   ],
   "metadata": {
    "collapsed": false,
    "ExecuteTime": {
     "end_time": "2024-02-14T10:32:19.597707300Z",
     "start_time": "2024-02-14T10:32:19.594292500Z"
    }
   },
   "id": "488711f4af7d281f",
   "execution_count": 23
  },
  {
   "cell_type": "code",
   "outputs": [
    {
     "data": {
      "text/plain": "[0.8792138035129042,\n 0.8615414938145372,\n 0.8675861542658312,\n 0.8719069967789903,\n 0.8709711601016925]"
     },
     "execution_count": 24,
     "metadata": {},
     "output_type": "execute_result"
    }
   ],
   "source": [
    "mlp_valence_auc"
   ],
   "metadata": {
    "collapsed": false,
    "ExecuteTime": {
     "end_time": "2024-02-14T10:32:19.602604Z",
     "start_time": "2024-02-14T10:32:19.598720500Z"
    }
   },
   "id": "8d82e68a56f51ab5",
   "execution_count": 24
  },
  {
   "cell_type": "code",
   "outputs": [
    {
     "name": "stdout",
     "output_type": "stream",
     "text": [
      "Average Valence Accuracy on CASE dataset using MLP Model is:  0.8130182556516379\n"
     ]
    }
   ],
   "source": [
    "print(\"Average Valence Accuracy on CASE dataset using MLP Model is: \", np.mean(mlp_valence_acc))"
   ],
   "metadata": {
    "collapsed": false,
    "ExecuteTime": {
     "end_time": "2024-02-14T10:32:19.606320600Z",
     "start_time": "2024-02-14T10:32:19.601286900Z"
    }
   },
   "id": "63a3eb19ee76466b",
   "execution_count": 25
  },
  {
   "cell_type": "markdown",
   "source": [
    "## VIME (MSE)"
   ],
   "metadata": {
    "collapsed": false
   },
   "id": "991164c3156b642e"
  },
  {
   "cell_type": "code",
   "outputs": [
    {
     "name": "stdout",
     "output_type": "stream",
     "text": [
      "WARNING:tensorflow:From C:\\Users\\Alfiya\\anaconda3\\Lib\\site-packages\\keras\\src\\backend.py:1398: The name tf.executing_eagerly_outside_functions is deprecated. Please use tf.compat.v1.executing_eagerly_outside_functions instead.\n",
      "WARNING:tensorflow:From C:\\Users\\Alfiya\\anaconda3\\Lib\\site-packages\\keras\\src\\optimizers\\__init__.py:309: The name tf.train.Optimizer is deprecated. Please use tf.compat.v1.train.Optimizer instead.\n",
      "Epoch 1/10\n",
      "WARNING:tensorflow:From C:\\Users\\Alfiya\\anaconda3\\Lib\\site-packages\\keras\\src\\engine\\base_layer_utils.py:384: The name tf.executing_eagerly_outside_functions is deprecated. Please use tf.compat.v1.executing_eagerly_outside_functions instead.\n",
      "WARNING:tensorflow:From C:\\Users\\Alfiya\\anaconda3\\Lib\\site-packages\\keras\\src\\utils\\tf_utils.py:492: The name tf.ragged.RaggedTensorValue is deprecated. Please use tf.compat.v1.ragged.RaggedTensorValue instead.\n",
      "8792/8792 [==============================] - 5s 565us/step - loss: 1235.6862 - mask_loss: 0.7532 - feature_loss: 617.4678\n",
      "Epoch 2/10\n",
      "8792/8792 [==============================] - 5s 558us/step - loss: 1235.1461 - mask_loss: 0.6117 - feature_loss: 617.2663\n",
      "Epoch 3/10\n",
      "8792/8792 [==============================] - 5s 559us/step - loss: 1235.1449 - mask_loss: 0.6114 - feature_loss: 617.2673\n",
      "Epoch 4/10\n",
      "8792/8792 [==============================] - 5s 562us/step - loss: 1235.1484 - mask_loss: 0.6112 - feature_loss: 617.2678\n",
      "Epoch 5/10\n",
      "8792/8792 [==============================] - 5s 560us/step - loss: 1235.1477 - mask_loss: 0.6111 - feature_loss: 617.2681\n",
      "Epoch 6/10\n",
      "8792/8792 [==============================] - 5s 558us/step - loss: 1235.1454 - mask_loss: 0.6111 - feature_loss: 617.2692\n",
      "Epoch 7/10\n",
      "8792/8792 [==============================] - 5s 596us/step - loss: 1235.1492 - mask_loss: 0.6111 - feature_loss: 617.2701\n",
      "Epoch 8/10\n",
      "8792/8792 [==============================] - 5s 563us/step - loss: 1235.1519 - mask_loss: 0.6111 - feature_loss: 617.2699\n",
      "Epoch 9/10\n",
      "8792/8792 [==============================] - 5s 570us/step - loss: 1235.1498 - mask_loss: 0.6111 - feature_loss: 617.2714\n",
      "Epoch 10/10\n",
      "8792/8792 [==============================] - 5s 569us/step - loss: 1235.1469 - mask_loss: 0.6110 - feature_loss: 617.2692\n",
      "WARNING:tensorflow:Compiled the loaded model, but the compiled metrics have yet to be built. `model.compile_metrics` will be empty until you train or evaluate the model.\n"
     ]
    }
   ],
   "source": [
    "# Train VIME-Self encoder\n",
    "vime_self_parameters = dict()\n",
    "vime_self_parameters['batch_size'] = 128\n",
    "vime_self_parameters['epochs'] = 10\n",
    "vime_self_encoder = vime_self(x_unlab, p_m, alpha, vime_self_parameters)\n",
    "    \n",
    "# Save encoder\n",
    "if not os.path.exists('Models'):\n",
    "  os.makedirs('Models')\n",
    "\n",
    "file_name = 'Models/VIME_valence_encoder1.h5'\n",
    "    \n",
    "vime_self_encoder.save(file_name)  "
   ],
   "metadata": {
    "collapsed": false,
    "ExecuteTime": {
     "end_time": "2024-02-15T04:04:08.679022300Z",
     "start_time": "2024-02-15T04:03:17.665783700Z"
    }
   },
   "id": "ec6c14a1f90fd2a2",
   "execution_count": 10
  },
  {
   "cell_type": "code",
   "outputs": [
    {
     "name": "stdout",
     "output_type": "stream",
     "text": [
      "WARNING:tensorflow:No training configuration found in the save file, so the model was *not* compiled. Compile it manually.\n",
      "3908/3908 [==============================] - 2s 385us/step\n",
      "6896/6896 [==============================] - 3s 375us/step\n"
     ]
    }
   ],
   "source": [
    "#predict and evaluate vime self encoder\n",
    "vime_self_encoder = load_model('Models/VIME_valence_encoder1.h5')\n",
    "\n",
    "# Test VIME-Self\n",
    "x_train_hat = vime_self_encoder.predict(x_train)\n",
    "x_test_hat = vime_self_encoder.predict(x_test)\n",
    "\n",
    "vime_self_acc = []\n",
    "vime_self_auc = []\n",
    "\n",
    "mlp_parameters = dict()\n",
    "mlp_parameters['hidden_dim'] = 100\n",
    "mlp_parameters['epochs'] = 100\n",
    "mlp_parameters['activation'] = 'relu'\n",
    "mlp_parameters['batch_size'] = 128"
   ],
   "metadata": {
    "collapsed": false,
    "ExecuteTime": {
     "end_time": "2024-02-15T04:11:03.551970Z",
     "start_time": "2024-02-15T04:10:56.152441100Z"
    }
   },
   "id": "dda0c004ac822ad5",
   "execution_count": 13
  },
  {
   "cell_type": "code",
   "outputs": [
    {
     "name": "stdout",
     "output_type": "stream",
     "text": [
      "6896/6896 [==============================] - 4s 562us/step\n"
     ]
    }
   ],
   "source": [
    "#experiment to compute accuracy for different number of hidden layers\n",
    "mlp_parameters['num_layers'] = 5\n",
    "\n",
    "y_test_hat = mlp(x_train_hat, y_train, x_test_hat, mlp_parameters)\n",
    "vime_self_acc.append(perf_metric(metric1, y_test, y_test_hat))\n",
    "vime_self_auc.append(perf_metric(metric2, y_test, y_test_hat))"
   ],
   "metadata": {
    "collapsed": false,
    "ExecuteTime": {
     "end_time": "2024-02-15T04:21:49.012874800Z",
     "start_time": "2024-02-15T04:20:15.554187Z"
    }
   },
   "id": "c6a6e26b0d2a551f",
   "execution_count": 28
  },
  {
   "cell_type": "code",
   "outputs": [
    {
     "data": {
      "text/plain": "[0.6909954496836533,\n 0.6911359474991389,\n 0.6908277587425898,\n 0.6917568571998333,\n 0.6916843421982922]"
     },
     "execution_count": 34,
     "metadata": {},
     "output_type": "execute_result"
    }
   ],
   "source": [
    "vime_self_acc"
   ],
   "metadata": {
    "collapsed": false,
    "ExecuteTime": {
     "end_time": "2024-02-15T04:34:32.090254Z",
     "start_time": "2024-02-15T04:34:32.086747200Z"
    }
   },
   "id": "fc737f302d032c84",
   "execution_count": 34
  },
  {
   "cell_type": "code",
   "outputs": [
    {
     "data": {
      "text/plain": "[0.5599444155338404,\n 0.5587095839211217,\n 0.5599210223458597,\n 0.5600654006410932,\n 0.5612911840869972]"
     },
     "execution_count": 35,
     "metadata": {},
     "output_type": "execute_result"
    }
   ],
   "source": [
    "vime_self_auc"
   ],
   "metadata": {
    "collapsed": false,
    "ExecuteTime": {
     "end_time": "2024-02-15T04:34:32.878830500Z",
     "start_time": "2024-02-15T04:34:32.877051800Z"
    }
   },
   "id": "45ce2727f4aead89",
   "execution_count": 35
  },
  {
   "cell_type": "code",
   "outputs": [
    {
     "data": {
      "text/plain": "[0.6909954496836533, 0.6911359474991389, 0.6908277587425898]"
     },
     "execution_count": 21,
     "metadata": {},
     "output_type": "execute_result"
    }
   ],
   "source": [
    "vime_self_acc"
   ],
   "metadata": {
    "collapsed": false,
    "ExecuteTime": {
     "end_time": "2024-02-15T04:16:03.366872500Z",
     "start_time": "2024-02-15T04:16:03.362764600Z"
    }
   },
   "id": "3af243ee967c411",
   "execution_count": 21
  },
  {
   "cell_type": "code",
   "outputs": [
    {
     "data": {
      "text/plain": "0.6896856474683201"
     },
     "execution_count": 31,
     "metadata": {},
     "output_type": "execute_result"
    }
   ],
   "source": [
    "vime_self_acc.pop(3)"
   ],
   "metadata": {
    "collapsed": false,
    "ExecuteTime": {
     "end_time": "2024-02-15T04:33:48.513874700Z",
     "start_time": "2024-02-15T04:33:48.508773400Z"
    }
   },
   "id": "699eca5336762780",
   "execution_count": 31
  },
  {
   "cell_type": "code",
   "outputs": [
    {
     "data": {
      "text/plain": "0.555187392749746"
     },
     "execution_count": 33,
     "metadata": {},
     "output_type": "execute_result"
    }
   ],
   "source": [
    "vime_self_auc.pop(3)"
   ],
   "metadata": {
    "collapsed": false,
    "ExecuteTime": {
     "end_time": "2024-02-15T04:34:19.793896600Z",
     "start_time": "2024-02-15T04:34:19.789060Z"
    }
   },
   "id": "ab985a41f7fa3797",
   "execution_count": 33
  },
  {
   "cell_type": "markdown",
   "source": [
    "## SLAB - Valence"
   ],
   "metadata": {
    "collapsed": false
   },
   "id": "7f19136c1170a279"
  },
  {
   "cell_type": "code",
   "outputs": [
    {
     "name": "stdout",
     "output_type": "stream",
     "text": [
      "WARNING:tensorflow:From C:\\Users\\Alfiya\\anaconda3\\Lib\\site-packages\\keras\\src\\optimizers\\__init__.py:309: The name tf.train.Optimizer is deprecated. Please use tf.compat.v1.train.Optimizer instead.\n",
      "Epoch 1/15\n",
      "WARNING:tensorflow:From C:\\Users\\Alfiya\\anaconda3\\Lib\\site-packages\\keras\\src\\engine\\base_layer_utils.py:384: The name tf.executing_eagerly_outside_functions is deprecated. Please use tf.compat.v1.executing_eagerly_outside_functions instead.\n",
      "WARNING:tensorflow:From C:\\Users\\Alfiya\\anaconda3\\Lib\\site-packages\\keras\\src\\utils\\tf_utils.py:492: The name tf.ragged.RaggedTensorValue is deprecated. Please use tf.compat.v1.ragged.RaggedTensorValue instead.\n",
      "8792/8792 [==============================] - 6s 596us/step - loss: 0.6228 - mask_loss: 0.6121 - feature_loss: 0.0054\n",
      "Epoch 2/15\n",
      "8792/8792 [==============================] - 5s 585us/step - loss: 0.6178 - mask_loss: 0.6101 - feature_loss: 0.0039\n",
      "Epoch 3/15\n",
      "8792/8792 [==============================] - 5s 583us/step - loss: 0.6154 - mask_loss: 0.6077 - feature_loss: 0.0038\n",
      "Epoch 4/15\n",
      "8792/8792 [==============================] - 5s 584us/step - loss: 0.6145 - mask_loss: 0.6068 - feature_loss: 0.0038\n",
      "Epoch 5/15\n",
      "8792/8792 [==============================] - 5s 584us/step - loss: 0.6139 - mask_loss: 0.6063 - feature_loss: 0.0038\n",
      "Epoch 6/15\n",
      "8792/8792 [==============================] - 5s 581us/step - loss: 0.6135 - mask_loss: 0.6058 - feature_loss: 0.0038\n",
      "Epoch 7/15\n",
      "8792/8792 [==============================] - 5s 582us/step - loss: 0.6131 - mask_loss: 0.6054 - feature_loss: 0.0038\n",
      "Epoch 8/15\n",
      "8792/8792 [==============================] - 5s 580us/step - loss: 0.6129 - mask_loss: 0.6052 - feature_loss: 0.0039\n",
      "Epoch 9/15\n",
      "8792/8792 [==============================] - 5s 577us/step - loss: 0.6127 - mask_loss: 0.6050 - feature_loss: 0.0039\n",
      "Epoch 10/15\n",
      "8792/8792 [==============================] - 5s 579us/step - loss: 0.6126 - mask_loss: 0.6048 - feature_loss: 0.0039\n",
      "Epoch 11/15\n",
      "8792/8792 [==============================] - 5s 588us/step - loss: 0.6124 - mask_loss: 0.6047 - feature_loss: 0.0039\n",
      "Epoch 12/15\n",
      "8792/8792 [==============================] - 5s 580us/step - loss: 0.6121 - mask_loss: 0.6044 - feature_loss: 0.0039\n",
      "Epoch 13/15\n",
      "8792/8792 [==============================] - 5s 582us/step - loss: 0.6118 - mask_loss: 0.6040 - feature_loss: 0.0039\n",
      "Epoch 14/15\n",
      "8792/8792 [==============================] - 5s 584us/step - loss: 0.6116 - mask_loss: 0.6039 - feature_loss: 0.0039\n",
      "Epoch 15/15\n",
      "8792/8792 [==============================] - 5s 578us/step - loss: 0.6115 - mask_loss: 0.6038 - feature_loss: 0.0039\n",
      "Proposed SLAB framework is trained.\n",
      "WARNING:tensorflow:Compiled the loaded model, but the compiled metrics have yet to be built. `model.compile_metrics` will be empty until you train or evaluate the model.\n"
     ]
    }
   ],
   "source": [
    "# Train SLAB-Self encoder\n",
    "slab_self_parameters = dict()\n",
    "slab_self_parameters['batch_size'] = 128\n",
    "slab_self_parameters['epochs'] = 15\n",
    "slab_self_encoder = hexr_self(x_unlab, p_m, alpha, slab_self_parameters)\n",
    "    \n",
    "# Save encoder\n",
    "if not os.path.exists('Models'):\n",
    "  os.makedirs('Models')\n",
    "\n",
    "file_name = 'Models/SLAB_valence_encoder3.h5'\n",
    "    \n",
    "sslam_self_encoder.save(file_name)  "
   ],
   "metadata": {
    "collapsed": false,
    "ExecuteTime": {
     "end_time": "2024-02-16T05:09:11.043777900Z",
     "start_time": "2024-02-16T05:07:52.900033Z"
    }
   },
   "id": "eb36eea23ad48358",
   "execution_count": 15
  },
  {
   "cell_type": "code",
   "outputs": [
    {
     "name": "stdout",
     "output_type": "stream",
     "text": [
      "WARNING:tensorflow:No training configuration found in the save file, so the model was *not* compiled. Compile it manually.\n",
      "3908/3908 [==============================] - 1s 359us/step\n",
      "6896/6896 [==============================] - 3s 366us/step\n"
     ]
    }
   ],
   "source": [
    "#predict and evaluate sslam self encoder\n",
    "sslam_self_encoder = load_model('Models/sslam_valence_encoder3.h5')\n",
    "\n",
    "# Test sslam\n",
    "x_train_hat = sslam_self_encoder.predict(x_train)\n",
    "x_test_hat = sslam_self_encoder.predict(x_test)\n",
    "\n",
    "sslam_self_acc = []\n",
    "sslam_self_auc = []\n",
    "\n",
    "mlp_parameters = dict()\n",
    "mlp_parameters['hidden_dim'] = 100\n",
    "mlp_parameters['epochs'] = 100\n",
    "mlp_parameters['activation'] = 'relu'\n",
    "mlp_parameters['batch_size'] = 128"
   ],
   "metadata": {
    "collapsed": false,
    "ExecuteTime": {
     "end_time": "2024-02-16T05:10:10.277335200Z",
     "start_time": "2024-02-16T05:10:04.515499900Z"
    }
   },
   "id": "2e56cfaf553d3012",
   "execution_count": 16
  },
  {
   "cell_type": "code",
   "outputs": [
    {
     "name": "stdout",
     "output_type": "stream",
     "text": [
      "6896/6896 [==============================] - 4s 575us/step\n",
      "6896/6896 [==============================] - 4s 582us/step\n",
      "6896/6896 [==============================] - 4s 576us/step\n",
      "6896/6896 [==============================] - 4s 597us/step\n",
      "6896/6896 [==============================] - 4s 587us/step\n"
     ]
    }
   ],
   "source": [
    "#experiment to compute accuracy for different number of hidden layers\n",
    "mlp_parameters['num_layers'] = 5\n",
    "for i in range (0, 5):\n",
    "    y_test_hat = mlp(x_train_hat, y_train, x_test_hat, mlp_parameters)\n",
    "    sslam_self_acc.append(perf_metric(metric1, y_test, y_test_hat))\n",
    "    sslam_self_auc.append(perf_metric(metric2, y_test, y_test_hat))"
   ],
   "metadata": {
    "collapsed": false,
    "ExecuteTime": {
     "end_time": "2024-02-16T05:18:38.924692900Z",
     "start_time": "2024-02-16T05:10:19.098461500Z"
    }
   },
   "id": "1265f2e4e7a0f518",
   "execution_count": 17
  },
  {
   "cell_type": "code",
   "outputs": [
    {
     "data": {
      "text/plain": "array([0.8634, 0.8646, 0.8666, 0.8672, 0.8712])"
     },
     "execution_count": 18,
     "metadata": {},
     "output_type": "execute_result"
    }
   ],
   "source": "np.round(sslam_self_acc, 4)",
   "metadata": {
    "collapsed": false,
    "ExecuteTime": {
     "end_time": "2024-02-16T05:18:38.931476800Z",
     "start_time": "2024-02-16T05:18:38.925694500Z"
    }
   },
   "id": "74bc36a61e5be4b2",
   "execution_count": 18
  },
  {
   "cell_type": "code",
   "outputs": [
    {
     "data": {
      "text/plain": "array([0.9301, 0.9305, 0.9337, 0.9356, 0.9366])"
     },
     "execution_count": 19,
     "metadata": {},
     "output_type": "execute_result"
    }
   ],
   "source": "np.round(sslam_self_auc,4)",
   "metadata": {
    "collapsed": false,
    "ExecuteTime": {
     "end_time": "2024-02-16T05:18:38.933527200Z",
     "start_time": "2024-02-16T05:18:38.930477500Z"
    }
   },
   "id": "736d4516a4a83249",
   "execution_count": 19
  },
  {
   "cell_type": "code",
   "outputs": [
    {
     "name": "stdout",
     "output_type": "stream",
     "text": [
      "Mean of valence accuracies for SLAB is  0.8666\n",
      "Standard Deviation of Valence Accuracies using SLAB:  0.0027\n",
      "Mean of valence accuracies AUC Score for SLAB is  0.9333\n"
     ]
    }
   ],
   "source": [
    "print(\"Mean of valence accuracies for sslam is \",round(np.mean(sslam_self_acc),4))\n",
    "\n",
    "# Compute standard deviation\n",
    "std_dev_acc = np.std(sslam_self_acc)\n",
    "print(\"Standard Deviation of Valence Accuracies using sslam: \", round(std_dev_acc,4))\n",
    "\n",
    "print(\"Mean of valence accuracies AUC Score for sslam is \",round(np.mean(sslam_self_auc),4))"
   ],
   "metadata": {
    "collapsed": false,
    "ExecuteTime": {
     "end_time": "2024-02-16T05:18:38.937637700Z",
     "start_time": "2024-02-16T05:18:38.934528100Z"
    }
   },
   "id": "f7ba1ab96daced83",
   "execution_count": 20
  },
  {
   "cell_type": "markdown",
   "source": "## sslam - Arousal",
   "metadata": {
    "collapsed": false
   },
   "id": "257a2b7ae18f2a58"
  },
  {
   "cell_type": "code",
   "outputs": [
    {
     "name": "stdout",
     "output_type": "stream",
     "text": [
      "Epoch 1/10\n",
      "8792/8792 [==============================] - 6s 599us/step - loss: 8.1701 - mask_loss: 0.6146 - feature_loss: 3.7777\n",
      "Epoch 2/10\n",
      "8792/8792 [==============================] - 5s 602us/step - loss: 5.1193 - mask_loss: 0.6125 - feature_loss: 2.2534\n",
      "Epoch 3/10\n",
      "8792/8792 [==============================] - 5s 598us/step - loss: 4.7070 - mask_loss: 0.6115 - feature_loss: 2.0478\n",
      "Epoch 4/10\n",
      "8792/8792 [==============================] - 5s 593us/step - loss: 4.6156 - mask_loss: 0.6115 - feature_loss: 2.0020\n",
      "Epoch 5/10\n",
      "8792/8792 [==============================] - 5s 595us/step - loss: 4.5646 - mask_loss: 0.6116 - feature_loss: 1.9765\n",
      "Epoch 6/10\n",
      "8792/8792 [==============================] - 5s 594us/step - loss: 4.5279 - mask_loss: 0.6116 - feature_loss: 1.9582\n",
      "Epoch 7/10\n",
      "8792/8792 [==============================] - 5s 592us/step - loss: 4.4944 - mask_loss: 0.6115 - feature_loss: 1.9415\n",
      "Epoch 8/10\n",
      "8792/8792 [==============================] - 5s 592us/step - loss: 4.4779 - mask_loss: 0.6115 - feature_loss: 1.9332\n",
      "Epoch 9/10\n",
      "8792/8792 [==============================] - 5s 593us/step - loss: 4.4661 - mask_loss: 0.6115 - feature_loss: 1.9273\n",
      "Epoch 10/10\n",
      "8792/8792 [==============================] - 5s 593us/step - loss: 4.4569 - mask_loss: 0.6114 - feature_loss: 1.9227\n",
      "Proposed SLAB framework is trained.\n",
      "WARNING:tensorflow:Compiled the loaded model, but the compiled metrics have yet to be built. `model.compile_metrics` will be empty until you train or evaluate the model.\n"
     ]
    }
   ],
   "source": [
    "\n",
    "# Train sslam-Self encoder\n",
    "sslam_self_parameters = dict()\n",
    "sslam_self_parameters['batch_size'] = 128\n",
    "sslam_self_parameters['epochs'] = 15\n",
    "sslam_encoder_arousal = hexr_self(x_unlab, p_m, alpha, sslam_self_parameters)\n",
    "    \n",
    "# Save encoder\n",
    "if not os.path.exists('Models'):\n",
    "  os.makedirs('Models')\n",
    "\n",
    "file_name = 'Models/sslam_arousal_encoder.h5'\n",
    "    \n",
    "sslam_encoder_arousal.save(file_name)  "
   ],
   "metadata": {
    "collapsed": false,
    "ExecuteTime": {
     "end_time": "2024-02-15T10:57:04.347479500Z",
     "start_time": "2024-02-15T10:56:11.120844Z"
    }
   },
   "id": "ed46ac5f750877e1",
   "execution_count": 26
  },
  {
   "cell_type": "code",
   "outputs": [
    {
     "name": "stdout",
     "output_type": "stream",
     "text": [
      "WARNING:tensorflow:No training configuration found in the save file, so the model was *not* compiled. Compile it manually.\n",
      "3908/3908 [==============================] - 2s 389us/step\n",
      "6896/6896 [==============================] - 3s 388us/step\n"
     ]
    }
   ],
   "source": [
    "#predict and evaluate sslam self encoder\n",
    "sslam_encoder_arousal = load_model('Models/sslam_arousal_encoder.h5')\n",
    "\n",
    "# Test sslam\n",
    "x_train_hat = sslam_encoder_arousal.predict(x_train)\n",
    "x_test_hat = sslam_encoder_arousal.predict(x_test)\n",
    "\n",
    "sslam_arousal_acc = []\n",
    "sslam_arousal_auc = []\n",
    "\n",
    "mlp_parameters = dict()\n",
    "mlp_parameters['hidden_dim'] = 100\n",
    "mlp_parameters['epochs'] = 100\n",
    "mlp_parameters['activation'] = 'relu'\n",
    "mlp_parameters['batch_size'] = 128"
   ],
   "metadata": {
    "collapsed": false,
    "ExecuteTime": {
     "end_time": "2024-02-15T10:57:42.504174500Z",
     "start_time": "2024-02-15T10:57:36.763822300Z"
    }
   },
   "id": "114bfd577cb1e224",
   "execution_count": 27
  },
  {
   "cell_type": "code",
   "outputs": [
    {
     "name": "stdout",
     "output_type": "stream",
     "text": [
      "6896/6896 [==============================] - 4s 553us/step\n",
      "6896/6896 [==============================] - 4s 587us/step\n",
      "6896/6896 [==============================] - 4s 570us/step\n",
      "6896/6896 [==============================] - 4s 544us/step\n",
      "6896/6896 [==============================] - 4s 566us/step\n"
     ]
    }
   ],
   "source": [
    "#experiment to compute accuracy for different number of hidden layers\n",
    "mlp_parameters['num_layers'] = 5\n",
    "for i in range (0, 5):\n",
    "    y_test_hat = mlp(x_train_hat, y_train, x_test_hat, mlp_parameters)\n",
    "    sslam_arousal_acc.append(perf_metric(metric1, y_test, y_test_hat))\n",
    "    sslam_arousal_auc.append(perf_metric(metric2, y_test, y_test_hat))"
   ],
   "metadata": {
    "collapsed": false,
    "ExecuteTime": {
     "end_time": "2024-02-15T11:05:43.632565200Z",
     "start_time": "2024-02-15T10:57:47.309288400Z"
    }
   },
   "id": "ae8325c121159d05",
   "execution_count": 28
  },
  {
   "cell_type": "code",
   "outputs": [
    {
     "data": {
      "text/plain": "array([0.8823, 0.8816, 0.8806, 0.8818, 0.8884])"
     },
     "execution_count": 37,
     "metadata": {},
     "output_type": "execute_result"
    }
   ],
   "source": "np.round(sslam_arousal_acc,4)",
   "metadata": {
    "collapsed": false,
    "ExecuteTime": {
     "end_time": "2024-02-15T11:16:11.463063200Z",
     "start_time": "2024-02-15T11:16:11.460693800Z"
    }
   },
   "id": "d5594a963183c71b",
   "execution_count": 37
  },
  {
   "cell_type": "code",
   "outputs": [
    {
     "data": {
      "text/plain": "array([0.945 , 0.9457, 0.9433, 0.9455, 0.9505])"
     },
     "execution_count": 33,
     "metadata": {},
     "output_type": "execute_result"
    }
   ],
   "source": "np.round(sslam_arousal_auc, 4)",
   "metadata": {
    "collapsed": false,
    "ExecuteTime": {
     "end_time": "2024-02-15T11:06:15.071587700Z",
     "start_time": "2024-02-15T11:06:15.063462500Z"
    }
   },
   "id": "64feccce4da28ed3",
   "execution_count": 33
  },
  {
   "cell_type": "code",
   "outputs": [
    {
     "name": "stdout",
     "output_type": "stream",
     "text": [
      "Mean of arousal accuracies for SLAB is  0.8829\n",
      "Mean of arousal accuracies AUC Score for SLAB is  0.946\n",
      "Standard Deviation of arousal Accuracies using SLAB:  0.0027667160788093026\n"
     ]
    }
   ],
   "source": [
    "print(\"Mean of arousal accuracies for sslam is \",round(np.mean(sslam_arousal_acc),4))\n",
    "\n",
    "print(\"Mean of arousal accuracies AUC Score for sslam is \",round(np.mean(sslam_arousal_auc), 4))\n",
    "\n",
    "# Compute standard deviation\n",
    "std_dev_acc = np.std(sslam_arousal_acc)\n",
    "print(\"Standard Deviation of arousal Accuracies using sslam: \", std_dev_acc)"
   ],
   "metadata": {
    "collapsed": false,
    "ExecuteTime": {
     "end_time": "2024-02-15T11:15:40.127824400Z",
     "start_time": "2024-02-15T11:15:40.124313100Z"
    }
   },
   "id": "a73bfa6357bc41a7",
   "execution_count": 35
  },
  {
   "cell_type": "markdown",
   "source": "## sslam - Valence with He Weight initialization",
   "metadata": {
    "collapsed": false
   },
   "id": "c8148525301a079b"
  },
  {
   "cell_type": "code",
   "outputs": [
    {
     "name": "stdout",
     "output_type": "stream",
     "text": [
      "Epoch 1/10\n",
      "8792/8792 [==============================] - 6s 602us/step - loss: 8.5001 - mask_loss: 0.6138 - feature_loss: 3.9432\n",
      "Epoch 2/10\n",
      "8792/8792 [==============================] - 5s 604us/step - loss: 5.1739 - mask_loss: 0.6121 - feature_loss: 2.2809\n",
      "Epoch 3/10\n",
      "8792/8792 [==============================] - 5s 583us/step - loss: 4.7583 - mask_loss: 0.6121 - feature_loss: 2.0731\n",
      "Epoch 4/10\n",
      "8792/8792 [==============================] - 5s 612us/step - loss: 4.6801 - mask_loss: 0.6117 - feature_loss: 2.0342\n",
      "Epoch 5/10\n",
      "8792/8792 [==============================] - 5s 590us/step - loss: 4.6459 - mask_loss: 0.6115 - feature_loss: 2.0172\n",
      "Epoch 6/10\n",
      "8792/8792 [==============================] - 5s 586us/step - loss: 4.6216 - mask_loss: 0.6115 - feature_loss: 2.0051\n",
      "Epoch 7/10\n",
      "8792/8792 [==============================] - 5s 576us/step - loss: 4.5896 - mask_loss: 0.6115 - feature_loss: 1.9891\n",
      "Epoch 8/10\n",
      "8792/8792 [==============================] - 5s 578us/step - loss: 4.5485 - mask_loss: 0.6114 - feature_loss: 1.9686\n",
      "Epoch 9/10\n",
      "8792/8792 [==============================] - 5s 577us/step - loss: 4.5147 - mask_loss: 0.6113 - feature_loss: 1.9517\n",
      "Epoch 10/10\n",
      "8792/8792 [==============================] - 5s 577us/step - loss: 4.4965 - mask_loss: 0.6113 - feature_loss: 1.9426\n",
      "Proposed SLAB framework is trained.\n",
      "WARNING:tensorflow:Compiled the loaded model, but the compiled metrics have yet to be built. `model.compile_metrics` will be empty until you train or evaluate the model.\n"
     ]
    }
   ],
   "source": [
    "# Train sslam-Self encoder\n",
    "sslam_self_parameters = dict()\n",
    "sslam_self_parameters['batch_size'] = 128\n",
    "sslam_self_parameters['epochs'] = 10\n",
    "sslam_self_encoder = hexr_self(x_unlab, p_m, alpha, sslam_self_parameters)\n",
    "    \n",
    "# Save encoder\n",
    "if not os.path.exists('Models'):\n",
    "  os.makedirs('Models')\n",
    "\n",
    "file_name = 'Models/sslam_valence_encoder4.h5'\n",
    "    \n",
    "sslam_self_encoder.save(file_name)  "
   ],
   "metadata": {
    "collapsed": false,
    "ExecuteTime": {
     "end_time": "2024-02-16T05:58:20.273175800Z",
     "start_time": "2024-02-16T05:57:27.567636800Z"
    }
   },
   "id": "52735cc38729012a",
   "execution_count": 28
  },
  {
   "cell_type": "code",
   "outputs": [
    {
     "name": "stdout",
     "output_type": "stream",
     "text": [
      "WARNING:tensorflow:From C:\\Users\\Alfiya\\anaconda3\\Lib\\site-packages\\keras\\src\\backend.py:1398: The name tf.executing_eagerly_outside_functions is deprecated. Please use tf.compat.v1.executing_eagerly_outside_functions instead.\n",
      "WARNING:tensorflow:No training configuration found in the save file, so the model was *not* compiled. Compile it manually.\n",
      "3908/3908 [==============================] - 1s 365us/step\n",
      "6896/6896 [==============================] - 2s 355us/step\n"
     ]
    }
   ],
   "source": [
    "#predict and evaluate sslam self encoder\n",
    "sslam_self_encoder = load_model('Models/sslam_valence_encoder4.h5')\n",
    "\n",
    "# Test sslam\n",
    "x_train_hat = sslam_self_encoder.predict(x_train)\n",
    "x_test_hat = sslam_self_encoder.predict(x_test)\n",
    "\n",
    "sslam_self_acc = []\n",
    "sslam_self_auc = []\n",
    "\n",
    "mlp_parameters = dict()\n",
    "mlp_parameters['hidden_dim'] = 100\n",
    "mlp_parameters['epochs'] = 100\n",
    "mlp_parameters['activation'] = 'relu'\n",
    "mlp_parameters['batch_size'] = 128"
   ],
   "metadata": {
    "collapsed": false,
    "ExecuteTime": {
     "end_time": "2024-02-16T06:05:37.355260100Z",
     "start_time": "2024-02-16T06:05:31.532119600Z"
    }
   },
   "id": "2c4bb9956df075f0",
   "execution_count": 10
  },
  {
   "cell_type": "code",
   "outputs": [
    {
     "name": "stdout",
     "output_type": "stream",
     "text": [
      "WARNING:tensorflow:From C:\\Users\\Alfiya\\anaconda3\\Lib\\site-packages\\keras\\src\\optimizers\\__init__.py:309: The name tf.train.Optimizer is deprecated. Please use tf.compat.v1.train.Optimizer instead.\n",
      "WARNING:tensorflow:From C:\\Users\\Alfiya\\anaconda3\\Lib\\site-packages\\keras\\src\\utils\\tf_utils.py:492: The name tf.ragged.RaggedTensorValue is deprecated. Please use tf.compat.v1.ragged.RaggedTensorValue instead.\n",
      "WARNING:tensorflow:From C:\\Users\\Alfiya\\anaconda3\\Lib\\site-packages\\keras\\src\\engine\\base_layer_utils.py:384: The name tf.executing_eagerly_outside_functions is deprecated. Please use tf.compat.v1.executing_eagerly_outside_functions instead.\n",
      "6896/6896 [==============================] - 4s 565us/step\n",
      "6896/6896 [==============================] - 4s 580us/step\n",
      "6896/6896 [==============================] - 4s 578us/step\n",
      "6896/6896 [==============================] - 4s 557us/step\n",
      "6896/6896 [==============================] - 4s 592us/step\n"
     ]
    }
   ],
   "source": [
    "#experiment to compute accuracy for different number of hidden layers\n",
    "mlp_parameters['num_layers'] = 5\n",
    "for i in range (0, 5):\n",
    "    y_test_hat = mlp(x_train_hat, y_train, x_test_hat, mlp_parameters)\n",
    "    sslam_self_acc.append(perf_metric(metric1, y_test, y_test_hat))\n",
    "    sslam_self_auc.append(perf_metric(metric2, y_test, y_test_hat))"
   ],
   "metadata": {
    "collapsed": false,
    "ExecuteTime": {
     "end_time": "2024-02-16T06:13:58.915000600Z",
     "start_time": "2024-02-16T06:05:40.604035600Z"
    }
   },
   "id": "89f840b09ee3af9a",
   "execution_count": 11
  },
  {
   "cell_type": "code",
   "outputs": [
    {
     "data": {
      "text/plain": "array([0.8978, 0.8947, 0.8998, 0.8896, 0.8958])"
     },
     "execution_count": 12,
     "metadata": {},
     "output_type": "execute_result"
    }
   ],
   "source": "np.round(sslam_self_acc, 4)",
   "metadata": {
    "collapsed": false,
    "ExecuteTime": {
     "end_time": "2024-02-16T06:13:58.919333900Z",
     "start_time": "2024-02-16T06:13:58.916010600Z"
    }
   },
   "id": "6b14486586bbbe58",
   "execution_count": 12
  },
  {
   "cell_type": "code",
   "outputs": [
    {
     "data": {
      "text/plain": "array([0.9554, 0.9525, 0.9566, 0.9504, 0.9545])"
     },
     "execution_count": 13,
     "metadata": {},
     "output_type": "execute_result"
    }
   ],
   "source": "np.round(sslam_self_auc,4)",
   "metadata": {
    "collapsed": false,
    "ExecuteTime": {
     "end_time": "2024-02-16T06:14:12.311572700Z",
     "start_time": "2024-02-16T06:14:12.307213800Z"
    }
   },
   "id": "de3ea9206b53607a",
   "execution_count": 13
  },
  {
   "cell_type": "code",
   "outputs": [
    {
     "name": "stdout",
     "output_type": "stream",
     "text": [
      "Mean of valence accuracies for SLAB  is  0.8956\n",
      "Standard Deviation of Valence Accuracies using SLAB:  0.0034\n",
      "Mean of valence accuracies AUC Score for SLAB is  0.9539\n"
     ]
    }
   ],
   "source": [
    "print(\"Mean of valence accuracies for sslam  is \",round(np.mean(sslam_self_acc),4))\n",
    "\n",
    "# Compute standard deviation\n",
    "std_dev_acc = np.std(sslam_self_acc)\n",
    "print(\"Standard Deviation of Valence Accuracies using sslam: \", round(std_dev_acc,4))\n",
    "\n",
    "print(\"Mean of valence accuracies AUC Score for sslam is \",round(np.mean(sslam_self_auc),4))"
   ],
   "metadata": {
    "collapsed": false,
    "ExecuteTime": {
     "end_time": "2024-02-16T06:14:13.551389Z",
     "start_time": "2024-02-16T06:14:13.546517400Z"
    }
   },
   "id": "68e3134992e3b72c",
   "execution_count": 14
  },
  {
   "cell_type": "code",
   "outputs": [],
   "source": [],
   "metadata": {
    "collapsed": false,
    "ExecuteTime": {
     "end_time": "2024-02-17T05:50:41.975247600Z",
     "start_time": "2024-02-17T05:50:41.968566300Z"
    }
   },
   "id": "c3b4765d973f4c5b",
   "execution_count": 4
  }
 ],
 "metadata": {
  "kernelspec": {
   "display_name": "Python 3",
   "language": "python",
   "name": "python3"
  },
  "language_info": {
   "codemirror_mode": {
    "name": "ipython",
    "version": 2
   },
   "file_extension": ".py",
   "mimetype": "text/x-python",
   "name": "python",
   "nbconvert_exporter": "python",
   "pygments_lexer": "ipython2",
   "version": "2.7.6"
  }
 },
 "nbformat": 4,
 "nbformat_minor": 5
}
