{
 "cells": [
  {
   "cell_type": "markdown",
   "source": [
    "##### This notebook has final code of SSLAM"
   ],
   "metadata": {
    "collapsed": false
   },
   "id": "aca20a465a843d4e"
  },
  {
   "cell_type": "code",
   "outputs": [
    {
     "name": "stdout",
     "output_type": "stream",
     "text": [
      "C:\\Users\\Alfiya\\Desktop\\SLAB-main\\Code\n"
     ]
    }
   ],
   "source": [
    "cd C:\\Users\\Alfiya\\Desktop\\SLAB-main\\Code"
   ],
   "metadata": {
    "collapsed": false,
    "ExecuteTime": {
     "end_time": "2024-03-21T07:33:58.221109900Z",
     "start_time": "2024-03-21T07:33:58.216634400Z"
    }
   },
   "id": "8989dc6cc509d24d",
   "execution_count": 1
  },
  {
   "cell_type": "code",
   "outputs": [
    {
     "name": "stdout",
     "output_type": "stream",
     "text": [
      "WARNING:tensorflow:From C:\\Users\\Alfiya\\anaconda3\\Lib\\site-packages\\keras\\src\\losses.py:2976: The name tf.losses.sparse_softmax_cross_entropy is deprecated. Please use tf.compat.v1.losses.sparse_softmax_cross_entropy instead.\n"
     ]
    }
   ],
   "source": [
    "import os\n",
    "#Necessary packages\n",
    "import warnings\n",
    "warnings.filterwarnings(\"ignore\")\n",
    "\n",
    "import pandas as pd\n",
    "import numpy as np\n",
    "import os\n",
    "import joblib \n",
    "from sklearn.preprocessing import OneHotEncoder\n",
    "from sklearn.model_selection import train_test_split\n",
    "from keras.models import load_model\n",
    "\n",
    "from supervised_models import logit, xgb_model, mlp\n",
    "from utils import perf_metric\n",
    "from VIME.vime_self import vime_self\n",
    "from hexr_self import hexr_self"
   ],
   "metadata": {
    "collapsed": false,
    "ExecuteTime": {
     "end_time": "2024-03-21T07:34:10.930348200Z",
     "start_time": "2024-03-21T07:34:07.815062200Z"
    }
   },
   "id": "e08eb1ee4814a362",
   "execution_count": 2
  },
  {
   "cell_type": "code",
   "execution_count": 3,
   "id": "initial_id",
   "metadata": {
    "collapsed": true,
    "ExecuteTime": {
     "end_time": "2024-03-21T07:34:10.934759700Z",
     "start_time": "2024-03-21T07:34:10.933253400Z"
    }
   },
   "outputs": [],
   "source": [
    "def one_hot_encode(df, class_label):\n",
    "    #one-hot encode class column\n",
    "    ohe = OneHotEncoder()\n",
    "    #Choose either class1 or class2 to select either valence or arousal\n",
    "    df_ohe = pd.DataFrame(ohe.fit_transform(df[[class_label]]).toarray())\n",
    "    df = df.join(df_ohe)\n",
    "    \n",
    "    df.drop('class1', axis=1, inplace=True)\n",
    "    df.drop('class2', axis=1, inplace=True)\n",
    "    df.drop('Unnamed: 0', axis=1, inplace=True)\n",
    "    df.drop('valence', axis=1, inplace=True)\n",
    "    df.drop('arousal', axis=1, inplace=True)\n",
    "    \n",
    "    X = df.loc[:,:'emg_trap']\n",
    "    y = df.iloc[:,8:]\n",
    "    return X, y"
   ]
  },
  {
   "cell_type": "code",
   "outputs": [],
   "source": [
    "def split_data_without_normalizing(X, y, label_data_rate, test_size=0.2):\n",
    "    \"\"\"\n",
    "    Train-test split and train split into unlablled and labelled data without normalization\n",
    "    if Test is 15% of the data\n",
    "    10% of 85% = 8.5% :- Labelled dataset\n",
    "    90% of 85% = 76.5% :- Unlabelled dataset\n",
    "    \n",
    "    if Test is 20% of the data \n",
    "    10% of 80% = 8% :- Labelled dataset\n",
    "    90% of 80% = 72% :- Unlabelled dataset\n",
    "    \"\"\"\n",
    "    x_train, x_test, y_train, y_test = train_test_split(X, y, test_size=test_size, random_state=33) \n",
    "    \n",
    "    #converting to numpy arrays\n",
    "    x_train = x_train.iloc[:, :].values\n",
    "    y_train = y_train.iloc[:, :].values\n",
    "    x_test = x_test.iloc[:,:].values\n",
    "    y_test = y_test.iloc[:,:].values\n",
    "    x_train.shape, x_test.shape, y_train.shape, y_test.shape\n",
    "    \n",
    "    # Divide labeled and unlabeled data\n",
    "    idx = np.random.permutation(len(y_train))\n",
    "    \n",
    "    # Label data : Unlabeled data = label_data_rate:(1-label_data_rate)\n",
    "    label_idx = idx[:int(len(idx)*label_data_rate)]\n",
    "    unlab_idx = idx[int(len(idx)*label_data_rate):]\n",
    "    \n",
    "    # Unlabeled data\n",
    "    x_unlab = x_train[unlab_idx, :]\n",
    "    \n",
    "    # Labeled data\n",
    "    x_train = x_train[label_idx, :] \n",
    "    y_train = y_train[label_idx, :]\n",
    "    return x_unlab, x_train, x_test, y_train, y_test"
   ],
   "metadata": {
    "collapsed": false,
    "ExecuteTime": {
     "end_time": "2024-03-21T07:34:10.939550500Z",
     "start_time": "2024-03-21T07:34:10.937759400Z"
    }
   },
   "id": "3c9f1e113c648ada",
   "execution_count": 4
  },
  {
   "cell_type": "code",
   "outputs": [],
   "source": [
    "def split_data_with_normalization(X, y, label_data_rate, test_size=0.2):\n",
    "    \"\"\"\n",
    "    Train-test split and train split into unlablled and labelled data with normalization\n",
    "    if Test is 15% of the data\n",
    "    10% of 85% = 8.5% :- Labelled dataset\n",
    "    90% of 85% = 76.5% :- Unlabelled dataset\n",
    "    \n",
    "    if Test is 20% of the data \n",
    "    10% of 80% = 8% :- Labelled dataset\n",
    "    90% of 80% = 72% :- Unlabelled dataset\n",
    "    \"\"\"\n",
    "    from sklearn.preprocessing import MinMaxScaler\n",
    "\n",
    "    scaler = MinMaxScaler()\n",
    "    \n",
    "    X[['ecg', 'bvp', 'gsr', 'rsp', 'skt', 'emg_zygo', 'emg_coru', 'emg_trap']] = scaler.fit_transform(X[['ecg', 'bvp', 'gsr', 'rsp', 'skt', 'emg_zygo', 'emg_coru', 'emg_trap']])\n",
    "\n",
    "    x_train, x_test, y_train, y_test = train_test_split(X, y, test_size=test_size, random_state=33) \n",
    "    \n",
    "    #converting to numpy arrays\n",
    "    x_train = x_train.iloc[:, :].values\n",
    "    y_train = y_train.iloc[:, :].values\n",
    "    x_test = x_test.iloc[:,:].values\n",
    "    y_test = y_test.iloc[:,:].values\n",
    "    x_train.shape, x_test.shape, y_train.shape, y_test.shape\n",
    "    \n",
    "    # Divide labeled and unlabeled data\n",
    "    idx = np.random.permutation(len(y_train))\n",
    "    \n",
    "    # Label data : Unlabeled data = label_data_rate:(1-label_data_rate)\n",
    "    label_idx = idx[:int(len(idx)*label_data_rate)]\n",
    "    unlab_idx = idx[int(len(idx)*label_data_rate):]\n",
    "    \n",
    "    # Unlabeled data\n",
    "    x_unlab = x_train[unlab_idx, :]\n",
    "    \n",
    "    # Labeled data\n",
    "    x_train = x_train[label_idx, :] \n",
    "    y_train = y_train[label_idx, :]\n",
    "    return x_unlab, x_train, x_test, y_train, y_test"
   ],
   "metadata": {
    "collapsed": false,
    "ExecuteTime": {
     "end_time": "2024-03-21T07:34:11.566715600Z",
     "start_time": "2024-03-21T07:34:11.563459900Z"
    }
   },
   "id": "d4d5d3a1e3d5f03b",
   "execution_count": 5
  },
  {
   "cell_type": "code",
   "outputs": [],
   "source": [
    "#Experimental parameters\n",
    "label_data_rate = 0.1\n",
    "\n",
    "#Metrics\n",
    "metric1 = 'acc'\n",
    "metric2 = 'auc'\n",
    "\n",
    "#parameters to train the encoder\n",
    "p_m = 0.3\n",
    "alpha = 2.0"
   ],
   "metadata": {
    "collapsed": false,
    "ExecuteTime": {
     "end_time": "2024-03-21T07:34:12.472674700Z",
     "start_time": "2024-03-21T07:34:12.469168200Z"
    }
   },
   "id": "22dde2a6a1492953",
   "execution_count": 6
  },
  {
   "cell_type": "markdown",
   "source": [
    "## SSLAM"
   ],
   "metadata": {
    "collapsed": false
   },
   "id": "924218b7166f3ebf"
  },
  {
   "cell_type": "markdown",
   "source": [
    "### SSLAM Valence"
   ],
   "metadata": {
    "collapsed": false
   },
   "id": "f27171dc7374b13"
  },
  {
   "cell_type": "code",
   "outputs": [],
   "source": [
    "#load case dataset\n",
    "df = pd.read_csv(\"..\\Data\\CASE_2class.csv\")"
   ],
   "metadata": {
    "collapsed": false,
    "ExecuteTime": {
     "end_time": "2024-03-21T09:59:03.062909400Z",
     "start_time": "2024-03-21T09:59:02.299991Z"
    }
   },
   "id": "63f1c9ab9f1f3f6f",
   "execution_count": 16
  },
  {
   "cell_type": "code",
   "outputs": [],
   "source": [
    "X, Y = one_hot_encode(df, 'class1')"
   ],
   "metadata": {
    "collapsed": false,
    "ExecuteTime": {
     "end_time": "2024-03-21T09:59:03.832985600Z",
     "start_time": "2024-03-21T09:59:03.565529300Z"
    }
   },
   "id": "db4ab67677b62184",
   "execution_count": 17
  },
  {
   "cell_type": "code",
   "outputs": [],
   "source": [
    "x_unlab, x_train, x_test, y_train, y_test = split_data_with_normalization(X, Y, label_data_rate, test_size=0.15)"
   ],
   "metadata": {
    "collapsed": false,
    "ExecuteTime": {
     "end_time": "2024-02-16T10:56:15.664403300Z",
     "start_time": "2024-02-16T10:56:15.234099700Z"
    }
   },
   "id": "a887cba8f12e1eff",
   "execution_count": 89
  },
  {
   "cell_type": "code",
   "outputs": [
    {
     "name": "stdout",
     "output_type": "stream",
     "text": [
      "Epoch 1/10\n",
      "8792/8792 [==============================] - 7s 695us/step - loss: 0.6215 - mask_loss: 0.6120 - feature_loss: 0.0048\n",
      "Epoch 2/10\n",
      "8792/8792 [==============================] - 6s 695us/step - loss: 0.6186 - mask_loss: 0.6109 - feature_loss: 0.0039\n",
      "Epoch 3/10\n",
      "8792/8792 [==============================] - 6s 655us/step - loss: 0.6180 - mask_loss: 0.6103 - feature_loss: 0.0039\n",
      "Epoch 4/10\n",
      "8792/8792 [==============================] - 5s 600us/step - loss: 0.6167 - mask_loss: 0.6090 - feature_loss: 0.0039\n",
      "Epoch 5/10\n",
      "8792/8792 [==============================] - 5s 597us/step - loss: 0.6154 - mask_loss: 0.6077 - feature_loss: 0.0039\n",
      "Epoch 6/10\n",
      "8792/8792 [==============================] - 5s 591us/step - loss: 0.6142 - mask_loss: 0.6065 - feature_loss: 0.0038\n",
      "Epoch 7/10\n",
      "8792/8792 [==============================] - 5s 593us/step - loss: 0.6134 - mask_loss: 0.6057 - feature_loss: 0.0039\n",
      "Epoch 8/10\n",
      "8792/8792 [==============================] - 5s 593us/step - loss: 0.6127 - mask_loss: 0.6050 - feature_loss: 0.0039\n",
      "Epoch 9/10\n",
      "8792/8792 [==============================] - 5s 590us/step - loss: 0.6122 - mask_loss: 0.6045 - feature_loss: 0.0039\n",
      "Epoch 10/10\n",
      "8792/8792 [==============================] - 5s 598us/step - loss: 0.6119 - mask_loss: 0.6041 - feature_loss: 0.0039\n",
      "Proposed SLAB framework is trained.\n",
      "WARNING:tensorflow:Compiled the loaded model, but the compiled metrics have yet to be built. `model.compile_metrics` will be empty until you train or evaluate the model.\n"
     ]
    }
   ],
   "source": [
    "# Train SLAB-Self encoder\n",
    "slab_self_parameters = dict()\n",
    "slab_self_parameters['batch_size'] = 128\n",
    "slab_self_parameters['epochs'] = 10\n",
    "slab_valence_encoder = hexr_self(x_unlab, p_m, alpha, slab_self_parameters)\n",
    "    \n",
    "# Save encoder\n",
    "if not os.path.exists('Models'):\n",
    "  os.makedirs('Models')\n",
    "\n",
    "file_name = 'Models/SLAB_valence_encoder11.h5'\n",
    "    \n",
    "slab_valence_encoder.save(file_name)  "
   ],
   "metadata": {
    "collapsed": false,
    "ExecuteTime": {
     "end_time": "2024-02-16T10:57:20.072901200Z",
     "start_time": "2024-02-16T10:56:24.285129Z"
    }
   },
   "id": "80eccc342e5cb114",
   "execution_count": 90
  },
  {
   "cell_type": "code",
   "outputs": [
    {
     "name": "stdout",
     "output_type": "stream",
     "text": [
      "WARNING:tensorflow:No training configuration found in the save file, so the model was *not* compiled. Compile it manually.\n",
      "3908/3908 [==============================] - 2s 391us/step\n",
      "6896/6896 [==============================] - 3s 394us/step\n"
     ]
    }
   ],
   "source": [
    "#predict and evaluate slab self encoder\n",
    "slab_valence_encoder = load_model('Models/SLAB_valence_encoder11.h5')\n",
    "\n",
    "# Test SLAB\n",
    "x_train_hat = slab_valence_encoder.predict(x_train)\n",
    "x_test_hat = slab_valence_encoder.predict(x_test)\n",
    "\n",
    "slab_valence_acc = []\n",
    "slab_valence_auc = []\n",
    "\n",
    "mlp_parameters = dict()\n",
    "mlp_parameters['hidden_dim'] = 100\n",
    "mlp_parameters['epochs'] = 100\n",
    "mlp_parameters['activation'] = 'relu'\n",
    "mlp_parameters['batch_size'] = 128"
   ],
   "metadata": {
    "collapsed": false,
    "ExecuteTime": {
     "end_time": "2024-02-16T10:57:26.203744800Z",
     "start_time": "2024-02-16T10:57:20.072901200Z"
    }
   },
   "id": "5a21b4a3b94e2b3c",
   "execution_count": 91
  },
  {
   "cell_type": "code",
   "outputs": [],
   "source": [
    "7"
   ],
   "metadata": {
    "collapsed": false,
    "ExecuteTime": {
     "end_time": "2024-02-16T10:57:26.209977500Z",
     "start_time": "2024-02-16T10:57:26.207365300Z"
    }
   },
   "id": "1081d54b898db617",
   "execution_count": 92
  },
  {
   "cell_type": "code",
   "outputs": [
    {
     "name": "stdout",
     "output_type": "stream",
     "text": [
      "6896/6896 [==============================] - 4s 584us/step\n",
      "He weight initialization\n",
      "6896/6896 [==============================] - 4s 594us/step\n",
      "He weight initialization\n",
      "6896/6896 [==============================] - 4s 583us/step\n",
      "He weight initialization\n",
      "6896/6896 [==============================] - 4s 585us/step\n",
      "He weight initialization\n"
     ]
    }
   ],
   "source": [
    "#experiment to compute accuracy for different number of hidden layers\n",
    "mlp_parameters['num_layers'] = 5\n",
    "for i in range (0, 4):\n",
    "    y_test_hat = mlp(x_train_hat, y_train, x_test_hat, mlp_parameters)\n",
    "    slab_valence_acc.append(perf_metric(metric1, y_test, y_test_hat))\n",
    "    slab_valence_auc.append(perf_metric(metric2, y_test, y_test_hat))"
   ],
   "metadata": {
    "collapsed": false,
    "ExecuteTime": {
     "end_time": "2024-02-16T07:52:48.364805700Z",
     "start_time": "2024-02-16T07:46:00.075572400Z"
    }
   },
   "id": "2d7857bfdb2c69a5",
   "execution_count": 22
  },
  {
   "cell_type": "code",
   "outputs": [
    {
     "ename": "KeyboardInterrupt",
     "evalue": "",
     "output_type": "error",
     "traceback": [
      "\u001B[1;31m---------------------------------------------------------------------------\u001B[0m",
      "\u001B[1;31mKeyboardInterrupt\u001B[0m                         Traceback (most recent call last)",
      "Cell \u001B[1;32mIn[101], line 2\u001B[0m\n\u001B[0;32m      1\u001B[0m mlp_parameters[\u001B[38;5;124m'\u001B[39m\u001B[38;5;124mnum_layers\u001B[39m\u001B[38;5;124m'\u001B[39m] \u001B[38;5;241m=\u001B[39m \u001B[38;5;241m5\u001B[39m\n\u001B[1;32m----> 2\u001B[0m y_test_hat \u001B[38;5;241m=\u001B[39m mlp(x_train_hat, y_train, x_test_hat, mlp_parameters)\n\u001B[0;32m      3\u001B[0m slab_valence_acc\u001B[38;5;241m.\u001B[39mappend(perf_metric(metric1, y_test, y_test_hat))\n\u001B[0;32m      4\u001B[0m slab_valence_auc\u001B[38;5;241m.\u001B[39mappend(perf_metric(metric2, y_test, y_test_hat))\n",
      "Cell \u001B[1;32mIn[92], line 65\u001B[0m, in \u001B[0;36mmlp\u001B[1;34m(x_train, y_train, x_test, parameters)\u001B[0m\n\u001B[0;32m     61\u001B[0m es \u001B[38;5;241m=\u001B[39m EarlyStopping(monitor\u001B[38;5;241m=\u001B[39m\u001B[38;5;124m'\u001B[39m\u001B[38;5;124mval_loss\u001B[39m\u001B[38;5;124m'\u001B[39m, mode \u001B[38;5;241m=\u001B[39m \u001B[38;5;124m'\u001B[39m\u001B[38;5;124mmin\u001B[39m\u001B[38;5;124m'\u001B[39m,\n\u001B[0;32m     62\u001B[0m                    verbose \u001B[38;5;241m=\u001B[39m \u001B[38;5;241m1\u001B[39m, restore_best_weights\u001B[38;5;241m=\u001B[39m\u001B[38;5;28;01mTrue\u001B[39;00m, patience\u001B[38;5;241m=\u001B[39m\u001B[38;5;241m50\u001B[39m)\n\u001B[0;32m     64\u001B[0m \u001B[38;5;66;03m# Fit model on training dataset\u001B[39;00m\n\u001B[1;32m---> 65\u001B[0m model\u001B[38;5;241m.\u001B[39mfit(x_train, y_train, validation_data \u001B[38;5;241m=\u001B[39m (x_valid, y_valid),\n\u001B[0;32m     66\u001B[0m           epochs \u001B[38;5;241m=\u001B[39m epochs_size, batch_size \u001B[38;5;241m=\u001B[39m batch_size,\n\u001B[0;32m     67\u001B[0m           verbose \u001B[38;5;241m=\u001B[39m \u001B[38;5;241m0\u001B[39m, callbacks\u001B[38;5;241m=\u001B[39m[es])\n\u001B[0;32m     69\u001B[0m \u001B[38;5;66;03m# Predict on x_test\u001B[39;00m\n\u001B[0;32m     70\u001B[0m y_test_hat \u001B[38;5;241m=\u001B[39m model\u001B[38;5;241m.\u001B[39mpredict(x_test)\n",
      "File \u001B[1;32m~\\anaconda3\\Lib\\site-packages\\keras\\src\\utils\\traceback_utils.py:65\u001B[0m, in \u001B[0;36mfilter_traceback.<locals>.error_handler\u001B[1;34m(*args, **kwargs)\u001B[0m\n\u001B[0;32m     63\u001B[0m filtered_tb \u001B[38;5;241m=\u001B[39m \u001B[38;5;28;01mNone\u001B[39;00m\n\u001B[0;32m     64\u001B[0m \u001B[38;5;28;01mtry\u001B[39;00m:\n\u001B[1;32m---> 65\u001B[0m     \u001B[38;5;28;01mreturn\u001B[39;00m fn(\u001B[38;5;241m*\u001B[39margs, \u001B[38;5;241m*\u001B[39m\u001B[38;5;241m*\u001B[39mkwargs)\n\u001B[0;32m     66\u001B[0m \u001B[38;5;28;01mexcept\u001B[39;00m \u001B[38;5;167;01mException\u001B[39;00m \u001B[38;5;28;01mas\u001B[39;00m e:\n\u001B[0;32m     67\u001B[0m     filtered_tb \u001B[38;5;241m=\u001B[39m _process_traceback_frames(e\u001B[38;5;241m.\u001B[39m__traceback__)\n",
      "File \u001B[1;32m~\\anaconda3\\Lib\\site-packages\\keras\\src\\engine\\training.py:1807\u001B[0m, in \u001B[0;36mModel.fit\u001B[1;34m(self, x, y, batch_size, epochs, verbose, callbacks, validation_split, validation_data, shuffle, class_weight, sample_weight, initial_epoch, steps_per_epoch, validation_steps, validation_batch_size, validation_freq, max_queue_size, workers, use_multiprocessing)\u001B[0m\n\u001B[0;32m   1799\u001B[0m \u001B[38;5;28;01mwith\u001B[39;00m tf\u001B[38;5;241m.\u001B[39mprofiler\u001B[38;5;241m.\u001B[39mexperimental\u001B[38;5;241m.\u001B[39mTrace(\n\u001B[0;32m   1800\u001B[0m     \u001B[38;5;124m\"\u001B[39m\u001B[38;5;124mtrain\u001B[39m\u001B[38;5;124m\"\u001B[39m,\n\u001B[0;32m   1801\u001B[0m     epoch_num\u001B[38;5;241m=\u001B[39mepoch,\n\u001B[1;32m   (...)\u001B[0m\n\u001B[0;32m   1804\u001B[0m     _r\u001B[38;5;241m=\u001B[39m\u001B[38;5;241m1\u001B[39m,\n\u001B[0;32m   1805\u001B[0m ):\n\u001B[0;32m   1806\u001B[0m     callbacks\u001B[38;5;241m.\u001B[39mon_train_batch_begin(step)\n\u001B[1;32m-> 1807\u001B[0m     tmp_logs \u001B[38;5;241m=\u001B[39m \u001B[38;5;28mself\u001B[39m\u001B[38;5;241m.\u001B[39mtrain_function(iterator)\n\u001B[0;32m   1808\u001B[0m     \u001B[38;5;28;01mif\u001B[39;00m data_handler\u001B[38;5;241m.\u001B[39mshould_sync:\n\u001B[0;32m   1809\u001B[0m         context\u001B[38;5;241m.\u001B[39masync_wait()\n",
      "File \u001B[1;32m~\\anaconda3\\Lib\\site-packages\\tensorflow\\python\\util\\traceback_utils.py:150\u001B[0m, in \u001B[0;36mfilter_traceback.<locals>.error_handler\u001B[1;34m(*args, **kwargs)\u001B[0m\n\u001B[0;32m    148\u001B[0m filtered_tb \u001B[38;5;241m=\u001B[39m \u001B[38;5;28;01mNone\u001B[39;00m\n\u001B[0;32m    149\u001B[0m \u001B[38;5;28;01mtry\u001B[39;00m:\n\u001B[1;32m--> 150\u001B[0m   \u001B[38;5;28;01mreturn\u001B[39;00m fn(\u001B[38;5;241m*\u001B[39margs, \u001B[38;5;241m*\u001B[39m\u001B[38;5;241m*\u001B[39mkwargs)\n\u001B[0;32m    151\u001B[0m \u001B[38;5;28;01mexcept\u001B[39;00m \u001B[38;5;167;01mException\u001B[39;00m \u001B[38;5;28;01mas\u001B[39;00m e:\n\u001B[0;32m    152\u001B[0m   filtered_tb \u001B[38;5;241m=\u001B[39m _process_traceback_frames(e\u001B[38;5;241m.\u001B[39m__traceback__)\n",
      "File \u001B[1;32m~\\anaconda3\\Lib\\site-packages\\tensorflow\\python\\eager\\polymorphic_function\\polymorphic_function.py:832\u001B[0m, in \u001B[0;36mFunction.__call__\u001B[1;34m(self, *args, **kwds)\u001B[0m\n\u001B[0;32m    829\u001B[0m compiler \u001B[38;5;241m=\u001B[39m \u001B[38;5;124m\"\u001B[39m\u001B[38;5;124mxla\u001B[39m\u001B[38;5;124m\"\u001B[39m \u001B[38;5;28;01mif\u001B[39;00m \u001B[38;5;28mself\u001B[39m\u001B[38;5;241m.\u001B[39m_jit_compile \u001B[38;5;28;01melse\u001B[39;00m \u001B[38;5;124m\"\u001B[39m\u001B[38;5;124mnonXla\u001B[39m\u001B[38;5;124m\"\u001B[39m\n\u001B[0;32m    831\u001B[0m \u001B[38;5;28;01mwith\u001B[39;00m OptionalXlaContext(\u001B[38;5;28mself\u001B[39m\u001B[38;5;241m.\u001B[39m_jit_compile):\n\u001B[1;32m--> 832\u001B[0m   result \u001B[38;5;241m=\u001B[39m \u001B[38;5;28mself\u001B[39m\u001B[38;5;241m.\u001B[39m_call(\u001B[38;5;241m*\u001B[39margs, \u001B[38;5;241m*\u001B[39m\u001B[38;5;241m*\u001B[39mkwds)\n\u001B[0;32m    834\u001B[0m new_tracing_count \u001B[38;5;241m=\u001B[39m \u001B[38;5;28mself\u001B[39m\u001B[38;5;241m.\u001B[39mexperimental_get_tracing_count()\n\u001B[0;32m    835\u001B[0m without_tracing \u001B[38;5;241m=\u001B[39m (tracing_count \u001B[38;5;241m==\u001B[39m new_tracing_count)\n",
      "File \u001B[1;32m~\\anaconda3\\Lib\\site-packages\\tensorflow\\python\\eager\\polymorphic_function\\polymorphic_function.py:868\u001B[0m, in \u001B[0;36mFunction._call\u001B[1;34m(self, *args, **kwds)\u001B[0m\n\u001B[0;32m    865\u001B[0m   \u001B[38;5;28mself\u001B[39m\u001B[38;5;241m.\u001B[39m_lock\u001B[38;5;241m.\u001B[39mrelease()\n\u001B[0;32m    866\u001B[0m   \u001B[38;5;66;03m# In this case we have created variables on the first call, so we run the\u001B[39;00m\n\u001B[0;32m    867\u001B[0m   \u001B[38;5;66;03m# defunned version which is guaranteed to never create variables.\u001B[39;00m\n\u001B[1;32m--> 868\u001B[0m   \u001B[38;5;28;01mreturn\u001B[39;00m tracing_compilation\u001B[38;5;241m.\u001B[39mcall_function(\n\u001B[0;32m    869\u001B[0m       args, kwds, \u001B[38;5;28mself\u001B[39m\u001B[38;5;241m.\u001B[39m_no_variable_creation_config\n\u001B[0;32m    870\u001B[0m   )\n\u001B[0;32m    871\u001B[0m \u001B[38;5;28;01melif\u001B[39;00m \u001B[38;5;28mself\u001B[39m\u001B[38;5;241m.\u001B[39m_variable_creation_config \u001B[38;5;129;01mis\u001B[39;00m \u001B[38;5;129;01mnot\u001B[39;00m \u001B[38;5;28;01mNone\u001B[39;00m:\n\u001B[0;32m    872\u001B[0m   \u001B[38;5;66;03m# Release the lock early so that multiple threads can perform the call\u001B[39;00m\n\u001B[0;32m    873\u001B[0m   \u001B[38;5;66;03m# in parallel.\u001B[39;00m\n\u001B[0;32m    874\u001B[0m   \u001B[38;5;28mself\u001B[39m\u001B[38;5;241m.\u001B[39m_lock\u001B[38;5;241m.\u001B[39mrelease()\n",
      "File \u001B[1;32m~\\anaconda3\\Lib\\site-packages\\tensorflow\\python\\eager\\polymorphic_function\\tracing_compilation.py:139\u001B[0m, in \u001B[0;36mcall_function\u001B[1;34m(args, kwargs, tracing_options)\u001B[0m\n\u001B[0;32m    137\u001B[0m bound_args \u001B[38;5;241m=\u001B[39m function\u001B[38;5;241m.\u001B[39mfunction_type\u001B[38;5;241m.\u001B[39mbind(\u001B[38;5;241m*\u001B[39margs, \u001B[38;5;241m*\u001B[39m\u001B[38;5;241m*\u001B[39mkwargs)\n\u001B[0;32m    138\u001B[0m flat_inputs \u001B[38;5;241m=\u001B[39m function\u001B[38;5;241m.\u001B[39mfunction_type\u001B[38;5;241m.\u001B[39munpack_inputs(bound_args)\n\u001B[1;32m--> 139\u001B[0m \u001B[38;5;28;01mreturn\u001B[39;00m function\u001B[38;5;241m.\u001B[39m_call_flat(  \u001B[38;5;66;03m# pylint: disable=protected-access\u001B[39;00m\n\u001B[0;32m    140\u001B[0m     flat_inputs, captured_inputs\u001B[38;5;241m=\u001B[39mfunction\u001B[38;5;241m.\u001B[39mcaptured_inputs\n\u001B[0;32m    141\u001B[0m )\n",
      "File \u001B[1;32m~\\anaconda3\\Lib\\site-packages\\tensorflow\\python\\eager\\polymorphic_function\\concrete_function.py:1323\u001B[0m, in \u001B[0;36mConcreteFunction._call_flat\u001B[1;34m(self, tensor_inputs, captured_inputs)\u001B[0m\n\u001B[0;32m   1319\u001B[0m possible_gradient_type \u001B[38;5;241m=\u001B[39m gradients_util\u001B[38;5;241m.\u001B[39mPossibleTapeGradientTypes(args)\n\u001B[0;32m   1320\u001B[0m \u001B[38;5;28;01mif\u001B[39;00m (possible_gradient_type \u001B[38;5;241m==\u001B[39m gradients_util\u001B[38;5;241m.\u001B[39mPOSSIBLE_GRADIENT_TYPES_NONE\n\u001B[0;32m   1321\u001B[0m     \u001B[38;5;129;01mand\u001B[39;00m executing_eagerly):\n\u001B[0;32m   1322\u001B[0m   \u001B[38;5;66;03m# No tape is watching; skip to running the function.\u001B[39;00m\n\u001B[1;32m-> 1323\u001B[0m   \u001B[38;5;28;01mreturn\u001B[39;00m \u001B[38;5;28mself\u001B[39m\u001B[38;5;241m.\u001B[39m_inference_function\u001B[38;5;241m.\u001B[39mcall_preflattened(args)\n\u001B[0;32m   1324\u001B[0m forward_backward \u001B[38;5;241m=\u001B[39m \u001B[38;5;28mself\u001B[39m\u001B[38;5;241m.\u001B[39m_select_forward_and_backward_functions(\n\u001B[0;32m   1325\u001B[0m     args,\n\u001B[0;32m   1326\u001B[0m     possible_gradient_type,\n\u001B[0;32m   1327\u001B[0m     executing_eagerly)\n\u001B[0;32m   1328\u001B[0m forward_function, args_with_tangents \u001B[38;5;241m=\u001B[39m forward_backward\u001B[38;5;241m.\u001B[39mforward()\n",
      "File \u001B[1;32m~\\anaconda3\\Lib\\site-packages\\tensorflow\\python\\eager\\polymorphic_function\\atomic_function.py:216\u001B[0m, in \u001B[0;36mAtomicFunction.call_preflattened\u001B[1;34m(self, args)\u001B[0m\n\u001B[0;32m    214\u001B[0m \u001B[38;5;28;01mdef\u001B[39;00m \u001B[38;5;21mcall_preflattened\u001B[39m(\u001B[38;5;28mself\u001B[39m, args: Sequence[core\u001B[38;5;241m.\u001B[39mTensor]) \u001B[38;5;241m-\u001B[39m\u001B[38;5;241m>\u001B[39m Any:\n\u001B[0;32m    215\u001B[0m \u001B[38;5;250m  \u001B[39m\u001B[38;5;124;03m\"\"\"Calls with flattened tensor inputs and returns the structured output.\"\"\"\u001B[39;00m\n\u001B[1;32m--> 216\u001B[0m   flat_outputs \u001B[38;5;241m=\u001B[39m \u001B[38;5;28mself\u001B[39m\u001B[38;5;241m.\u001B[39mcall_flat(\u001B[38;5;241m*\u001B[39margs)\n\u001B[0;32m    217\u001B[0m   \u001B[38;5;28;01mreturn\u001B[39;00m \u001B[38;5;28mself\u001B[39m\u001B[38;5;241m.\u001B[39mfunction_type\u001B[38;5;241m.\u001B[39mpack_output(flat_outputs)\n",
      "File \u001B[1;32m~\\anaconda3\\Lib\\site-packages\\tensorflow\\python\\eager\\polymorphic_function\\atomic_function.py:251\u001B[0m, in \u001B[0;36mAtomicFunction.call_flat\u001B[1;34m(self, *args)\u001B[0m\n\u001B[0;32m    249\u001B[0m \u001B[38;5;28;01mwith\u001B[39;00m record\u001B[38;5;241m.\u001B[39mstop_recording():\n\u001B[0;32m    250\u001B[0m   \u001B[38;5;28;01mif\u001B[39;00m \u001B[38;5;28mself\u001B[39m\u001B[38;5;241m.\u001B[39m_bound_context\u001B[38;5;241m.\u001B[39mexecuting_eagerly():\n\u001B[1;32m--> 251\u001B[0m     outputs \u001B[38;5;241m=\u001B[39m \u001B[38;5;28mself\u001B[39m\u001B[38;5;241m.\u001B[39m_bound_context\u001B[38;5;241m.\u001B[39mcall_function(\n\u001B[0;32m    252\u001B[0m         \u001B[38;5;28mself\u001B[39m\u001B[38;5;241m.\u001B[39mname,\n\u001B[0;32m    253\u001B[0m         \u001B[38;5;28mlist\u001B[39m(args),\n\u001B[0;32m    254\u001B[0m         \u001B[38;5;28mlen\u001B[39m(\u001B[38;5;28mself\u001B[39m\u001B[38;5;241m.\u001B[39mfunction_type\u001B[38;5;241m.\u001B[39mflat_outputs),\n\u001B[0;32m    255\u001B[0m     )\n\u001B[0;32m    256\u001B[0m   \u001B[38;5;28;01melse\u001B[39;00m:\n\u001B[0;32m    257\u001B[0m     outputs \u001B[38;5;241m=\u001B[39m make_call_op_in_graph(\n\u001B[0;32m    258\u001B[0m         \u001B[38;5;28mself\u001B[39m,\n\u001B[0;32m    259\u001B[0m         \u001B[38;5;28mlist\u001B[39m(args),\n\u001B[0;32m    260\u001B[0m         \u001B[38;5;28mself\u001B[39m\u001B[38;5;241m.\u001B[39m_bound_context\u001B[38;5;241m.\u001B[39mfunction_call_options\u001B[38;5;241m.\u001B[39mas_attrs(),\n\u001B[0;32m    261\u001B[0m     )\n",
      "File \u001B[1;32m~\\anaconda3\\Lib\\site-packages\\tensorflow\\python\\eager\\context.py:1486\u001B[0m, in \u001B[0;36mContext.call_function\u001B[1;34m(self, name, tensor_inputs, num_outputs)\u001B[0m\n\u001B[0;32m   1484\u001B[0m cancellation_context \u001B[38;5;241m=\u001B[39m cancellation\u001B[38;5;241m.\u001B[39mcontext()\n\u001B[0;32m   1485\u001B[0m \u001B[38;5;28;01mif\u001B[39;00m cancellation_context \u001B[38;5;129;01mis\u001B[39;00m \u001B[38;5;28;01mNone\u001B[39;00m:\n\u001B[1;32m-> 1486\u001B[0m   outputs \u001B[38;5;241m=\u001B[39m execute\u001B[38;5;241m.\u001B[39mexecute(\n\u001B[0;32m   1487\u001B[0m       name\u001B[38;5;241m.\u001B[39mdecode(\u001B[38;5;124m\"\u001B[39m\u001B[38;5;124mutf-8\u001B[39m\u001B[38;5;124m\"\u001B[39m),\n\u001B[0;32m   1488\u001B[0m       num_outputs\u001B[38;5;241m=\u001B[39mnum_outputs,\n\u001B[0;32m   1489\u001B[0m       inputs\u001B[38;5;241m=\u001B[39mtensor_inputs,\n\u001B[0;32m   1490\u001B[0m       attrs\u001B[38;5;241m=\u001B[39mattrs,\n\u001B[0;32m   1491\u001B[0m       ctx\u001B[38;5;241m=\u001B[39m\u001B[38;5;28mself\u001B[39m,\n\u001B[0;32m   1492\u001B[0m   )\n\u001B[0;32m   1493\u001B[0m \u001B[38;5;28;01melse\u001B[39;00m:\n\u001B[0;32m   1494\u001B[0m   outputs \u001B[38;5;241m=\u001B[39m execute\u001B[38;5;241m.\u001B[39mexecute_with_cancellation(\n\u001B[0;32m   1495\u001B[0m       name\u001B[38;5;241m.\u001B[39mdecode(\u001B[38;5;124m\"\u001B[39m\u001B[38;5;124mutf-8\u001B[39m\u001B[38;5;124m\"\u001B[39m),\n\u001B[0;32m   1496\u001B[0m       num_outputs\u001B[38;5;241m=\u001B[39mnum_outputs,\n\u001B[1;32m   (...)\u001B[0m\n\u001B[0;32m   1500\u001B[0m       cancellation_manager\u001B[38;5;241m=\u001B[39mcancellation_context,\n\u001B[0;32m   1501\u001B[0m   )\n",
      "File \u001B[1;32m~\\anaconda3\\Lib\\site-packages\\tensorflow\\python\\eager\\execute.py:53\u001B[0m, in \u001B[0;36mquick_execute\u001B[1;34m(op_name, num_outputs, inputs, attrs, ctx, name)\u001B[0m\n\u001B[0;32m     51\u001B[0m \u001B[38;5;28;01mtry\u001B[39;00m:\n\u001B[0;32m     52\u001B[0m   ctx\u001B[38;5;241m.\u001B[39mensure_initialized()\n\u001B[1;32m---> 53\u001B[0m   tensors \u001B[38;5;241m=\u001B[39m pywrap_tfe\u001B[38;5;241m.\u001B[39mTFE_Py_Execute(ctx\u001B[38;5;241m.\u001B[39m_handle, device_name, op_name,\n\u001B[0;32m     54\u001B[0m                                       inputs, attrs, num_outputs)\n\u001B[0;32m     55\u001B[0m \u001B[38;5;28;01mexcept\u001B[39;00m core\u001B[38;5;241m.\u001B[39m_NotOkStatusException \u001B[38;5;28;01mas\u001B[39;00m e:\n\u001B[0;32m     56\u001B[0m   \u001B[38;5;28;01mif\u001B[39;00m name \u001B[38;5;129;01mis\u001B[39;00m \u001B[38;5;129;01mnot\u001B[39;00m \u001B[38;5;28;01mNone\u001B[39;00m:\n",
      "\u001B[1;31mKeyboardInterrupt\u001B[0m: "
     ]
    }
   ],
   "source": [
    "mlp_parameters['num_layers'] = 5\n",
    "y_test_hat = mlp(x_train_hat, y_train, x_test_hat, mlp_parameters)\n",
    "slab_valence_acc.append(perf_metric(metric1, y_test, y_test_hat))\n",
    "slab_valence_auc.append(perf_metric(metric2, y_test, y_test_hat))"
   ],
   "metadata": {
    "collapsed": false,
    "ExecuteTime": {
     "end_time": "2024-02-16T11:15:15.473801600Z",
     "start_time": "2024-02-16T11:14:54.376830400Z"
    }
   },
   "id": "117205545ac73c21",
   "execution_count": 101
  },
  {
   "metadata": {},
   "cell_type": "markdown",
   "source": "# He Uniform Initialization with normalization",
   "id": "65a21e2693145d77"
  },
  {
   "cell_type": "code",
   "outputs": [],
   "source": [
    "np.round(slab_valence_acc, 4)"
   ],
   "metadata": {
    "collapsed": false,
    "ExecuteTime": {
     "end_time": "2024-02-16T11:15:15.476943800Z",
     "start_time": "2024-02-16T11:15:15.474831700Z"
    }
   },
   "id": "d8eb4026eab86e22",
   "execution_count": null
  },
  {
   "cell_type": "code",
   "outputs": [
    {
     "data": {
      "text/plain": "array([0.9113, 0.8952, 0.8973, 0.902 , 0.8982, 0.888 ])"
     },
     "execution_count": 85,
     "metadata": {},
     "output_type": "execute_result"
    }
   ],
   "source": [
    "np.round(slab_valence_auc,4)"
   ],
   "metadata": {
    "collapsed": false
   },
   "id": "31cd0a437f387fc3",
   "execution_count": 85
  },
  {
   "cell_type": "code",
   "outputs": [
    {
     "name": "stdout",
     "output_type": "stream",
     "text": [
      "Mean of valence accuracies for SLAB using He weight initialization is  0.8346\n",
      "Standard Deviation of Valence Accuracies using SLAB:  0.0069\n",
      "Mean of valence accuracies AUC Score for SLAB is  0.8987\n"
     ]
    }
   ],
   "source": [
    "print(\"Mean of valence accuracies for SLAB using He weight initialization is \",round(np.mean(slab_valence_acc),4))\n",
    "\n",
    "# Compute standard deviation\n",
    "std_dev_acc = np.std(slab_valence_acc)\n",
    "print(\"Standard Deviation of Valence Accuracies using SLAB: \", round(std_dev_acc,4))\n",
    "\n",
    "print(\"Mean of valence accuracies AUC Score for SLAB is \",round(np.mean(slab_valence_auc),4))"
   ],
   "metadata": {
    "collapsed": false
   },
   "id": "218a78ee0a75eeb8",
   "execution_count": 86
  },
  {
   "cell_type": "markdown",
   "source": [
    "# He Uniform Initialization"
   ],
   "metadata": {
    "collapsed": false
   },
   "id": "ede29eaaafdc1dbc"
  },
  {
   "cell_type": "code",
   "outputs": [
    {
     "data": {
      "text/plain": "array([0.8465, 0.8313, 0.8351, 0.8377, 0.8337, 0.8234])"
     },
     "execution_count": 84,
     "metadata": {},
     "output_type": "execute_result"
    }
   ],
   "source": [
    "np.round(slab_valence_acc, 4)"
   ],
   "metadata": {
    "collapsed": false,
    "ExecuteTime": {
     "end_time": "2024-02-16T10:49:52.456391400Z",
     "start_time": "2024-02-16T10:49:52.454353Z"
    }
   },
   "id": "bc9fe9b904277dc8",
   "execution_count": 84
  },
  {
   "cell_type": "code",
   "outputs": [
    {
     "data": {
      "text/plain": "array([0.9113, 0.8952, 0.8973, 0.902 , 0.8982, 0.888 ])"
     },
     "execution_count": 85,
     "metadata": {},
     "output_type": "execute_result"
    }
   ],
   "source": [
    "np.round(slab_valence_auc,4)"
   ],
   "metadata": {
    "collapsed": false,
    "ExecuteTime": {
     "end_time": "2024-02-16T10:50:13.742442700Z",
     "start_time": "2024-02-16T10:50:13.730526600Z"
    }
   },
   "id": "166cb891db6d8c1",
   "execution_count": 85
  },
  {
   "cell_type": "code",
   "outputs": [
    {
     "name": "stdout",
     "output_type": "stream",
     "text": [
      "Mean of valence accuracies for SLAB using He weight initialization is  0.8346\n",
      "Standard Deviation of Valence Accuracies using SLAB:  0.0069\n",
      "Mean of valence accuracies AUC Score for SLAB is  0.8987\n"
     ]
    }
   ],
   "source": [
    "print(\"Mean of valence accuracies for SLAB using He weight initialization is \",round(np.mean(slab_valence_acc),4))\n",
    "\n",
    "# Compute standard deviation\n",
    "std_dev_acc = np.std(slab_valence_acc)\n",
    "print(\"Standard Deviation of Valence Accuracies using SLAB: \", round(std_dev_acc,4))\n",
    "\n",
    "print(\"Mean of valence accuracies AUC Score for SLAB is \",round(np.mean(slab_valence_auc),4))"
   ],
   "metadata": {
    "collapsed": false,
    "ExecuteTime": {
     "end_time": "2024-02-16T10:50:15.620281600Z",
     "start_time": "2024-02-16T10:50:15.614627900Z"
    }
   },
   "id": "5e70685b7f591095",
   "execution_count": 86
  },
  {
   "cell_type": "markdown",
   "source": [
    "### SLAB - Arousal"
   ],
   "metadata": {
    "collapsed": false
   },
   "id": "b866104653d73d92"
  },
  {
   "cell_type": "code",
   "outputs": [],
   "source": [
    "#load case dataset\n",
    "df = pd.read_csv(\"..\\Data\\CASE_2class.csv\")"
   ],
   "metadata": {
    "collapsed": false,
    "ExecuteTime": {
     "end_time": "2024-02-16T07:00:17.690645Z",
     "start_time": "2024-02-16T07:00:16.973147500Z"
    }
   },
   "id": "d97b4ee3dfb1f78c",
   "execution_count": 19
  },
  {
   "cell_type": "code",
   "outputs": [],
   "source": [
    "X, Y = one_hot_encode(df, 'class2')"
   ],
   "metadata": {
    "collapsed": false,
    "ExecuteTime": {
     "end_time": "2024-02-16T07:00:17.949928300Z",
     "start_time": "2024-02-16T07:00:17.691645800Z"
    }
   },
   "id": "fa7ca0ed24a6afc6",
   "execution_count": 20
  },
  {
   "cell_type": "code",
   "outputs": [],
   "source": [
    "x_unlab, x_train, x_test, y_train, y_test = split_data_without_normalizing(X, Y, label_data_rate, test_size=0.15)"
   ],
   "metadata": {
    "collapsed": false,
    "ExecuteTime": {
     "end_time": "2024-02-16T07:00:18.177469600Z",
     "start_time": "2024-02-16T07:00:17.950928100Z"
    }
   },
   "id": "4bd2d47b0dd1583d",
   "execution_count": 21
  },
  {
   "cell_type": "code",
   "outputs": [
    {
     "name": "stdout",
     "output_type": "stream",
     "text": [
      "Epoch 1/10\n",
      "8792/8792 [==============================] - 5s 583us/step - loss: 7.9170 - mask_loss: 0.6138 - feature_loss: 3.6516\n",
      "Epoch 2/10\n",
      "8792/8792 [==============================] - 5s 579us/step - loss: 4.8456 - mask_loss: 0.6125 - feature_loss: 2.1165\n",
      "Epoch 3/10\n",
      "8792/8792 [==============================] - 5s 579us/step - loss: 4.5650 - mask_loss: 0.6118 - feature_loss: 1.9766\n",
      "Epoch 4/10\n",
      "8792/8792 [==============================] - 5s 577us/step - loss: 4.4778 - mask_loss: 0.6123 - feature_loss: 1.9328\n",
      "Epoch 5/10\n",
      "8792/8792 [==============================] - 5s 581us/step - loss: 4.3919 - mask_loss: 0.6118 - feature_loss: 1.8901\n",
      "Epoch 6/10\n",
      "8792/8792 [==============================] - 5s 580us/step - loss: 4.3528 - mask_loss: 0.6114 - feature_loss: 1.8707\n",
      "Epoch 7/10\n",
      "8792/8792 [==============================] - 5s 574us/step - loss: 4.3318 - mask_loss: 0.6114 - feature_loss: 1.8602\n",
      "Epoch 8/10\n",
      "8792/8792 [==============================] - 5s 580us/step - loss: 4.3134 - mask_loss: 0.6114 - feature_loss: 1.8510\n",
      "Epoch 9/10\n",
      "8792/8792 [==============================] - 5s 573us/step - loss: 4.2991 - mask_loss: 0.6114 - feature_loss: 1.8439\n",
      "Epoch 10/10\n",
      "8792/8792 [==============================] - 5s 580us/step - loss: 4.2907 - mask_loss: 0.6114 - feature_loss: 1.8396\n",
      "Proposed SLAB framework is trained.\n",
      "WARNING:tensorflow:Compiled the loaded model, but the compiled metrics have yet to be built. `model.compile_metrics` will be empty until you train or evaluate the model.\n"
     ]
    }
   ],
   "source": [
    "# Train SLAB-Self encoder\n",
    "slab_self_parameters = dict()\n",
    "slab_self_parameters['batch_size'] = 128\n",
    "slab_self_parameters['epochs'] = 10\n",
    "slab_encoder_arousal = hexr_self(x_unlab, p_m, alpha, slab_self_parameters)\n",
    "    \n",
    "# Save encoder\n",
    "if not os.path.exists('Models'):\n",
    "  os.makedirs('Models')\n",
    "\n",
    "file_name = 'Models/SLAB_arousal_encoder4.h5'\n",
    "    \n",
    "slab_encoder_arousal.save(file_name)  "
   ],
   "metadata": {
    "collapsed": false,
    "ExecuteTime": {
     "end_time": "2024-02-16T07:01:09.971693800Z",
     "start_time": "2024-02-16T07:00:18.178466800Z"
    }
   },
   "id": "d0ba98fdeae4b99f",
   "execution_count": 22
  },
  {
   "cell_type": "code",
   "outputs": [
    {
     "name": "stdout",
     "output_type": "stream",
     "text": [
      "WARNING:tensorflow:No training configuration found in the save file, so the model was *not* compiled. Compile it manually.\n",
      "3908/3908 [==============================] - 2s 381us/step\n",
      "6896/6896 [==============================] - 3s 373us/step\n"
     ]
    }
   ],
   "source": [
    "#predict and evaluate slab self encoder\n",
    "slab_encoder_arousal = load_model('Models/SLAB_arousal_encoder4.h5')\n",
    "\n",
    "# Test SLAB\n",
    "x_train_hat = slab_encoder_arousal.predict(x_train)\n",
    "x_test_hat = slab_encoder_arousal.predict(x_test)\n",
    "\n",
    "slab_arousal_acc = []\n",
    "slab_arousal_auc = []\n",
    "\n",
    "mlp_parameters = dict()\n",
    "mlp_parameters['hidden_dim'] = 100\n",
    "mlp_parameters['epochs'] = 100\n",
    "mlp_parameters['activation'] = 'relu'\n",
    "mlp_parameters['batch_size'] = 128"
   ],
   "metadata": {
    "collapsed": false,
    "ExecuteTime": {
     "end_time": "2024-02-16T07:01:15.522460100Z",
     "start_time": "2024-02-16T07:01:09.972773Z"
    }
   },
   "id": "b9c661a1904dcace",
   "execution_count": 23
  },
  {
   "cell_type": "code",
   "outputs": [
    {
     "ename": "KeyboardInterrupt",
     "evalue": "",
     "output_type": "error",
     "traceback": [
      "\u001B[1;31m---------------------------------------------------------------------------\u001B[0m",
      "\u001B[1;31mKeyboardInterrupt\u001B[0m                         Traceback (most recent call last)",
      "Cell \u001B[1;32mIn[24], line 4\u001B[0m\n\u001B[0;32m      2\u001B[0m mlp_parameters[\u001B[38;5;124m'\u001B[39m\u001B[38;5;124mnum_layers\u001B[39m\u001B[38;5;124m'\u001B[39m] \u001B[38;5;241m=\u001B[39m \u001B[38;5;241m5\u001B[39m\n\u001B[0;32m      3\u001B[0m \u001B[38;5;28;01mfor\u001B[39;00m i \u001B[38;5;129;01min\u001B[39;00m \u001B[38;5;28mrange\u001B[39m (\u001B[38;5;241m0\u001B[39m, \u001B[38;5;241m5\u001B[39m):\n\u001B[1;32m----> 4\u001B[0m     y_test_hat \u001B[38;5;241m=\u001B[39m mlp(x_train_hat, y_train, x_test_hat, mlp_parameters)\n\u001B[0;32m      5\u001B[0m     slab_arousal_acc\u001B[38;5;241m.\u001B[39mappend(perf_metric(metric1, y_test, y_test_hat))\n\u001B[0;32m      6\u001B[0m     slab_arousal_auc\u001B[38;5;241m.\u001B[39mappend(perf_metric(metric2, y_test, y_test_hat))\n",
      "File \u001B[1;32m~\\Desktop\\SLAB-main\\Code\\supervised_models.py:123\u001B[0m, in \u001B[0;36mmlp\u001B[1;34m(x_train, y_train, x_test, parameters)\u001B[0m\n\u001B[0;32m    119\u001B[0m es \u001B[38;5;241m=\u001B[39m EarlyStopping(monitor\u001B[38;5;241m=\u001B[39m\u001B[38;5;124m'\u001B[39m\u001B[38;5;124mval_loss\u001B[39m\u001B[38;5;124m'\u001B[39m, mode \u001B[38;5;241m=\u001B[39m \u001B[38;5;124m'\u001B[39m\u001B[38;5;124mmin\u001B[39m\u001B[38;5;124m'\u001B[39m,\n\u001B[0;32m    120\u001B[0m                    verbose \u001B[38;5;241m=\u001B[39m \u001B[38;5;241m1\u001B[39m, restore_best_weights\u001B[38;5;241m=\u001B[39m\u001B[38;5;28;01mTrue\u001B[39;00m, patience\u001B[38;5;241m=\u001B[39m\u001B[38;5;241m50\u001B[39m)\n\u001B[0;32m    122\u001B[0m \u001B[38;5;66;03m# Fit model on training dataset\u001B[39;00m\n\u001B[1;32m--> 123\u001B[0m model\u001B[38;5;241m.\u001B[39mfit(x_train, y_train, validation_data \u001B[38;5;241m=\u001B[39m (x_valid, y_valid),\n\u001B[0;32m    124\u001B[0m           epochs \u001B[38;5;241m=\u001B[39m epochs_size, batch_size \u001B[38;5;241m=\u001B[39m batch_size,\n\u001B[0;32m    125\u001B[0m           verbose \u001B[38;5;241m=\u001B[39m \u001B[38;5;241m0\u001B[39m, callbacks\u001B[38;5;241m=\u001B[39m[es])\n\u001B[0;32m    127\u001B[0m \u001B[38;5;66;03m# Predict on x_test\u001B[39;00m\n\u001B[0;32m    128\u001B[0m y_test_hat \u001B[38;5;241m=\u001B[39m model\u001B[38;5;241m.\u001B[39mpredict(x_test)\n",
      "File \u001B[1;32m~\\anaconda3\\Lib\\site-packages\\keras\\src\\utils\\traceback_utils.py:65\u001B[0m, in \u001B[0;36mfilter_traceback.<locals>.error_handler\u001B[1;34m(*args, **kwargs)\u001B[0m\n\u001B[0;32m     63\u001B[0m filtered_tb \u001B[38;5;241m=\u001B[39m \u001B[38;5;28;01mNone\u001B[39;00m\n\u001B[0;32m     64\u001B[0m \u001B[38;5;28;01mtry\u001B[39;00m:\n\u001B[1;32m---> 65\u001B[0m     \u001B[38;5;28;01mreturn\u001B[39;00m fn(\u001B[38;5;241m*\u001B[39margs, \u001B[38;5;241m*\u001B[39m\u001B[38;5;241m*\u001B[39mkwargs)\n\u001B[0;32m     66\u001B[0m \u001B[38;5;28;01mexcept\u001B[39;00m \u001B[38;5;167;01mException\u001B[39;00m \u001B[38;5;28;01mas\u001B[39;00m e:\n\u001B[0;32m     67\u001B[0m     filtered_tb \u001B[38;5;241m=\u001B[39m _process_traceback_frames(e\u001B[38;5;241m.\u001B[39m__traceback__)\n",
      "File \u001B[1;32m~\\anaconda3\\Lib\\site-packages\\keras\\src\\engine\\training.py:1807\u001B[0m, in \u001B[0;36mModel.fit\u001B[1;34m(self, x, y, batch_size, epochs, verbose, callbacks, validation_split, validation_data, shuffle, class_weight, sample_weight, initial_epoch, steps_per_epoch, validation_steps, validation_batch_size, validation_freq, max_queue_size, workers, use_multiprocessing)\u001B[0m\n\u001B[0;32m   1799\u001B[0m \u001B[38;5;28;01mwith\u001B[39;00m tf\u001B[38;5;241m.\u001B[39mprofiler\u001B[38;5;241m.\u001B[39mexperimental\u001B[38;5;241m.\u001B[39mTrace(\n\u001B[0;32m   1800\u001B[0m     \u001B[38;5;124m\"\u001B[39m\u001B[38;5;124mtrain\u001B[39m\u001B[38;5;124m\"\u001B[39m,\n\u001B[0;32m   1801\u001B[0m     epoch_num\u001B[38;5;241m=\u001B[39mepoch,\n\u001B[1;32m   (...)\u001B[0m\n\u001B[0;32m   1804\u001B[0m     _r\u001B[38;5;241m=\u001B[39m\u001B[38;5;241m1\u001B[39m,\n\u001B[0;32m   1805\u001B[0m ):\n\u001B[0;32m   1806\u001B[0m     callbacks\u001B[38;5;241m.\u001B[39mon_train_batch_begin(step)\n\u001B[1;32m-> 1807\u001B[0m     tmp_logs \u001B[38;5;241m=\u001B[39m \u001B[38;5;28mself\u001B[39m\u001B[38;5;241m.\u001B[39mtrain_function(iterator)\n\u001B[0;32m   1808\u001B[0m     \u001B[38;5;28;01mif\u001B[39;00m data_handler\u001B[38;5;241m.\u001B[39mshould_sync:\n\u001B[0;32m   1809\u001B[0m         context\u001B[38;5;241m.\u001B[39masync_wait()\n",
      "File \u001B[1;32m~\\anaconda3\\Lib\\site-packages\\tensorflow\\python\\util\\traceback_utils.py:150\u001B[0m, in \u001B[0;36mfilter_traceback.<locals>.error_handler\u001B[1;34m(*args, **kwargs)\u001B[0m\n\u001B[0;32m    148\u001B[0m filtered_tb \u001B[38;5;241m=\u001B[39m \u001B[38;5;28;01mNone\u001B[39;00m\n\u001B[0;32m    149\u001B[0m \u001B[38;5;28;01mtry\u001B[39;00m:\n\u001B[1;32m--> 150\u001B[0m   \u001B[38;5;28;01mreturn\u001B[39;00m fn(\u001B[38;5;241m*\u001B[39margs, \u001B[38;5;241m*\u001B[39m\u001B[38;5;241m*\u001B[39mkwargs)\n\u001B[0;32m    151\u001B[0m \u001B[38;5;28;01mexcept\u001B[39;00m \u001B[38;5;167;01mException\u001B[39;00m \u001B[38;5;28;01mas\u001B[39;00m e:\n\u001B[0;32m    152\u001B[0m   filtered_tb \u001B[38;5;241m=\u001B[39m _process_traceback_frames(e\u001B[38;5;241m.\u001B[39m__traceback__)\n",
      "File \u001B[1;32m~\\anaconda3\\Lib\\site-packages\\tensorflow\\python\\eager\\polymorphic_function\\polymorphic_function.py:832\u001B[0m, in \u001B[0;36mFunction.__call__\u001B[1;34m(self, *args, **kwds)\u001B[0m\n\u001B[0;32m    829\u001B[0m compiler \u001B[38;5;241m=\u001B[39m \u001B[38;5;124m\"\u001B[39m\u001B[38;5;124mxla\u001B[39m\u001B[38;5;124m\"\u001B[39m \u001B[38;5;28;01mif\u001B[39;00m \u001B[38;5;28mself\u001B[39m\u001B[38;5;241m.\u001B[39m_jit_compile \u001B[38;5;28;01melse\u001B[39;00m \u001B[38;5;124m\"\u001B[39m\u001B[38;5;124mnonXla\u001B[39m\u001B[38;5;124m\"\u001B[39m\n\u001B[0;32m    831\u001B[0m \u001B[38;5;28;01mwith\u001B[39;00m OptionalXlaContext(\u001B[38;5;28mself\u001B[39m\u001B[38;5;241m.\u001B[39m_jit_compile):\n\u001B[1;32m--> 832\u001B[0m   result \u001B[38;5;241m=\u001B[39m \u001B[38;5;28mself\u001B[39m\u001B[38;5;241m.\u001B[39m_call(\u001B[38;5;241m*\u001B[39margs, \u001B[38;5;241m*\u001B[39m\u001B[38;5;241m*\u001B[39mkwds)\n\u001B[0;32m    834\u001B[0m new_tracing_count \u001B[38;5;241m=\u001B[39m \u001B[38;5;28mself\u001B[39m\u001B[38;5;241m.\u001B[39mexperimental_get_tracing_count()\n\u001B[0;32m    835\u001B[0m without_tracing \u001B[38;5;241m=\u001B[39m (tracing_count \u001B[38;5;241m==\u001B[39m new_tracing_count)\n",
      "File \u001B[1;32m~\\anaconda3\\Lib\\site-packages\\tensorflow\\python\\eager\\polymorphic_function\\polymorphic_function.py:868\u001B[0m, in \u001B[0;36mFunction._call\u001B[1;34m(self, *args, **kwds)\u001B[0m\n\u001B[0;32m    865\u001B[0m   \u001B[38;5;28mself\u001B[39m\u001B[38;5;241m.\u001B[39m_lock\u001B[38;5;241m.\u001B[39mrelease()\n\u001B[0;32m    866\u001B[0m   \u001B[38;5;66;03m# In this case we have created variables on the first call, so we run the\u001B[39;00m\n\u001B[0;32m    867\u001B[0m   \u001B[38;5;66;03m# defunned version which is guaranteed to never create variables.\u001B[39;00m\n\u001B[1;32m--> 868\u001B[0m   \u001B[38;5;28;01mreturn\u001B[39;00m tracing_compilation\u001B[38;5;241m.\u001B[39mcall_function(\n\u001B[0;32m    869\u001B[0m       args, kwds, \u001B[38;5;28mself\u001B[39m\u001B[38;5;241m.\u001B[39m_no_variable_creation_config\n\u001B[0;32m    870\u001B[0m   )\n\u001B[0;32m    871\u001B[0m \u001B[38;5;28;01melif\u001B[39;00m \u001B[38;5;28mself\u001B[39m\u001B[38;5;241m.\u001B[39m_variable_creation_config \u001B[38;5;129;01mis\u001B[39;00m \u001B[38;5;129;01mnot\u001B[39;00m \u001B[38;5;28;01mNone\u001B[39;00m:\n\u001B[0;32m    872\u001B[0m   \u001B[38;5;66;03m# Release the lock early so that multiple threads can perform the call\u001B[39;00m\n\u001B[0;32m    873\u001B[0m   \u001B[38;5;66;03m# in parallel.\u001B[39;00m\n\u001B[0;32m    874\u001B[0m   \u001B[38;5;28mself\u001B[39m\u001B[38;5;241m.\u001B[39m_lock\u001B[38;5;241m.\u001B[39mrelease()\n",
      "File \u001B[1;32m~\\anaconda3\\Lib\\site-packages\\tensorflow\\python\\eager\\polymorphic_function\\tracing_compilation.py:139\u001B[0m, in \u001B[0;36mcall_function\u001B[1;34m(args, kwargs, tracing_options)\u001B[0m\n\u001B[0;32m    137\u001B[0m bound_args \u001B[38;5;241m=\u001B[39m function\u001B[38;5;241m.\u001B[39mfunction_type\u001B[38;5;241m.\u001B[39mbind(\u001B[38;5;241m*\u001B[39margs, \u001B[38;5;241m*\u001B[39m\u001B[38;5;241m*\u001B[39mkwargs)\n\u001B[0;32m    138\u001B[0m flat_inputs \u001B[38;5;241m=\u001B[39m function\u001B[38;5;241m.\u001B[39mfunction_type\u001B[38;5;241m.\u001B[39munpack_inputs(bound_args)\n\u001B[1;32m--> 139\u001B[0m \u001B[38;5;28;01mreturn\u001B[39;00m function\u001B[38;5;241m.\u001B[39m_call_flat(  \u001B[38;5;66;03m# pylint: disable=protected-access\u001B[39;00m\n\u001B[0;32m    140\u001B[0m     flat_inputs, captured_inputs\u001B[38;5;241m=\u001B[39mfunction\u001B[38;5;241m.\u001B[39mcaptured_inputs\n\u001B[0;32m    141\u001B[0m )\n",
      "File \u001B[1;32m~\\anaconda3\\Lib\\site-packages\\tensorflow\\python\\eager\\polymorphic_function\\concrete_function.py:1323\u001B[0m, in \u001B[0;36mConcreteFunction._call_flat\u001B[1;34m(self, tensor_inputs, captured_inputs)\u001B[0m\n\u001B[0;32m   1319\u001B[0m possible_gradient_type \u001B[38;5;241m=\u001B[39m gradients_util\u001B[38;5;241m.\u001B[39mPossibleTapeGradientTypes(args)\n\u001B[0;32m   1320\u001B[0m \u001B[38;5;28;01mif\u001B[39;00m (possible_gradient_type \u001B[38;5;241m==\u001B[39m gradients_util\u001B[38;5;241m.\u001B[39mPOSSIBLE_GRADIENT_TYPES_NONE\n\u001B[0;32m   1321\u001B[0m     \u001B[38;5;129;01mand\u001B[39;00m executing_eagerly):\n\u001B[0;32m   1322\u001B[0m   \u001B[38;5;66;03m# No tape is watching; skip to running the function.\u001B[39;00m\n\u001B[1;32m-> 1323\u001B[0m   \u001B[38;5;28;01mreturn\u001B[39;00m \u001B[38;5;28mself\u001B[39m\u001B[38;5;241m.\u001B[39m_inference_function\u001B[38;5;241m.\u001B[39mcall_preflattened(args)\n\u001B[0;32m   1324\u001B[0m forward_backward \u001B[38;5;241m=\u001B[39m \u001B[38;5;28mself\u001B[39m\u001B[38;5;241m.\u001B[39m_select_forward_and_backward_functions(\n\u001B[0;32m   1325\u001B[0m     args,\n\u001B[0;32m   1326\u001B[0m     possible_gradient_type,\n\u001B[0;32m   1327\u001B[0m     executing_eagerly)\n\u001B[0;32m   1328\u001B[0m forward_function, args_with_tangents \u001B[38;5;241m=\u001B[39m forward_backward\u001B[38;5;241m.\u001B[39mforward()\n",
      "File \u001B[1;32m~\\anaconda3\\Lib\\site-packages\\tensorflow\\python\\eager\\polymorphic_function\\atomic_function.py:216\u001B[0m, in \u001B[0;36mAtomicFunction.call_preflattened\u001B[1;34m(self, args)\u001B[0m\n\u001B[0;32m    214\u001B[0m \u001B[38;5;28;01mdef\u001B[39;00m \u001B[38;5;21mcall_preflattened\u001B[39m(\u001B[38;5;28mself\u001B[39m, args: Sequence[core\u001B[38;5;241m.\u001B[39mTensor]) \u001B[38;5;241m-\u001B[39m\u001B[38;5;241m>\u001B[39m Any:\n\u001B[0;32m    215\u001B[0m \u001B[38;5;250m  \u001B[39m\u001B[38;5;124;03m\"\"\"Calls with flattened tensor inputs and returns the structured output.\"\"\"\u001B[39;00m\n\u001B[1;32m--> 216\u001B[0m   flat_outputs \u001B[38;5;241m=\u001B[39m \u001B[38;5;28mself\u001B[39m\u001B[38;5;241m.\u001B[39mcall_flat(\u001B[38;5;241m*\u001B[39margs)\n\u001B[0;32m    217\u001B[0m   \u001B[38;5;28;01mreturn\u001B[39;00m \u001B[38;5;28mself\u001B[39m\u001B[38;5;241m.\u001B[39mfunction_type\u001B[38;5;241m.\u001B[39mpack_output(flat_outputs)\n",
      "File \u001B[1;32m~\\anaconda3\\Lib\\site-packages\\tensorflow\\python\\eager\\polymorphic_function\\atomic_function.py:251\u001B[0m, in \u001B[0;36mAtomicFunction.call_flat\u001B[1;34m(self, *args)\u001B[0m\n\u001B[0;32m    249\u001B[0m \u001B[38;5;28;01mwith\u001B[39;00m record\u001B[38;5;241m.\u001B[39mstop_recording():\n\u001B[0;32m    250\u001B[0m   \u001B[38;5;28;01mif\u001B[39;00m \u001B[38;5;28mself\u001B[39m\u001B[38;5;241m.\u001B[39m_bound_context\u001B[38;5;241m.\u001B[39mexecuting_eagerly():\n\u001B[1;32m--> 251\u001B[0m     outputs \u001B[38;5;241m=\u001B[39m \u001B[38;5;28mself\u001B[39m\u001B[38;5;241m.\u001B[39m_bound_context\u001B[38;5;241m.\u001B[39mcall_function(\n\u001B[0;32m    252\u001B[0m         \u001B[38;5;28mself\u001B[39m\u001B[38;5;241m.\u001B[39mname,\n\u001B[0;32m    253\u001B[0m         \u001B[38;5;28mlist\u001B[39m(args),\n\u001B[0;32m    254\u001B[0m         \u001B[38;5;28mlen\u001B[39m(\u001B[38;5;28mself\u001B[39m\u001B[38;5;241m.\u001B[39mfunction_type\u001B[38;5;241m.\u001B[39mflat_outputs),\n\u001B[0;32m    255\u001B[0m     )\n\u001B[0;32m    256\u001B[0m   \u001B[38;5;28;01melse\u001B[39;00m:\n\u001B[0;32m    257\u001B[0m     outputs \u001B[38;5;241m=\u001B[39m make_call_op_in_graph(\n\u001B[0;32m    258\u001B[0m         \u001B[38;5;28mself\u001B[39m,\n\u001B[0;32m    259\u001B[0m         \u001B[38;5;28mlist\u001B[39m(args),\n\u001B[0;32m    260\u001B[0m         \u001B[38;5;28mself\u001B[39m\u001B[38;5;241m.\u001B[39m_bound_context\u001B[38;5;241m.\u001B[39mfunction_call_options\u001B[38;5;241m.\u001B[39mas_attrs(),\n\u001B[0;32m    261\u001B[0m     )\n",
      "File \u001B[1;32m~\\anaconda3\\Lib\\site-packages\\tensorflow\\python\\eager\\context.py:1486\u001B[0m, in \u001B[0;36mContext.call_function\u001B[1;34m(self, name, tensor_inputs, num_outputs)\u001B[0m\n\u001B[0;32m   1484\u001B[0m cancellation_context \u001B[38;5;241m=\u001B[39m cancellation\u001B[38;5;241m.\u001B[39mcontext()\n\u001B[0;32m   1485\u001B[0m \u001B[38;5;28;01mif\u001B[39;00m cancellation_context \u001B[38;5;129;01mis\u001B[39;00m \u001B[38;5;28;01mNone\u001B[39;00m:\n\u001B[1;32m-> 1486\u001B[0m   outputs \u001B[38;5;241m=\u001B[39m execute\u001B[38;5;241m.\u001B[39mexecute(\n\u001B[0;32m   1487\u001B[0m       name\u001B[38;5;241m.\u001B[39mdecode(\u001B[38;5;124m\"\u001B[39m\u001B[38;5;124mutf-8\u001B[39m\u001B[38;5;124m\"\u001B[39m),\n\u001B[0;32m   1488\u001B[0m       num_outputs\u001B[38;5;241m=\u001B[39mnum_outputs,\n\u001B[0;32m   1489\u001B[0m       inputs\u001B[38;5;241m=\u001B[39mtensor_inputs,\n\u001B[0;32m   1490\u001B[0m       attrs\u001B[38;5;241m=\u001B[39mattrs,\n\u001B[0;32m   1491\u001B[0m       ctx\u001B[38;5;241m=\u001B[39m\u001B[38;5;28mself\u001B[39m,\n\u001B[0;32m   1492\u001B[0m   )\n\u001B[0;32m   1493\u001B[0m \u001B[38;5;28;01melse\u001B[39;00m:\n\u001B[0;32m   1494\u001B[0m   outputs \u001B[38;5;241m=\u001B[39m execute\u001B[38;5;241m.\u001B[39mexecute_with_cancellation(\n\u001B[0;32m   1495\u001B[0m       name\u001B[38;5;241m.\u001B[39mdecode(\u001B[38;5;124m\"\u001B[39m\u001B[38;5;124mutf-8\u001B[39m\u001B[38;5;124m\"\u001B[39m),\n\u001B[0;32m   1496\u001B[0m       num_outputs\u001B[38;5;241m=\u001B[39mnum_outputs,\n\u001B[1;32m   (...)\u001B[0m\n\u001B[0;32m   1500\u001B[0m       cancellation_manager\u001B[38;5;241m=\u001B[39mcancellation_context,\n\u001B[0;32m   1501\u001B[0m   )\n",
      "File \u001B[1;32m~\\anaconda3\\Lib\\site-packages\\tensorflow\\python\\eager\\execute.py:53\u001B[0m, in \u001B[0;36mquick_execute\u001B[1;34m(op_name, num_outputs, inputs, attrs, ctx, name)\u001B[0m\n\u001B[0;32m     51\u001B[0m \u001B[38;5;28;01mtry\u001B[39;00m:\n\u001B[0;32m     52\u001B[0m   ctx\u001B[38;5;241m.\u001B[39mensure_initialized()\n\u001B[1;32m---> 53\u001B[0m   tensors \u001B[38;5;241m=\u001B[39m pywrap_tfe\u001B[38;5;241m.\u001B[39mTFE_Py_Execute(ctx\u001B[38;5;241m.\u001B[39m_handle, device_name, op_name,\n\u001B[0;32m     54\u001B[0m                                       inputs, attrs, num_outputs)\n\u001B[0;32m     55\u001B[0m \u001B[38;5;28;01mexcept\u001B[39;00m core\u001B[38;5;241m.\u001B[39m_NotOkStatusException \u001B[38;5;28;01mas\u001B[39;00m e:\n\u001B[0;32m     56\u001B[0m   \u001B[38;5;28;01mif\u001B[39;00m name \u001B[38;5;129;01mis\u001B[39;00m \u001B[38;5;129;01mnot\u001B[39;00m \u001B[38;5;28;01mNone\u001B[39;00m:\n",
      "\u001B[1;31mKeyboardInterrupt\u001B[0m: "
     ]
    }
   ],
   "source": [
    "#experiment to compute accuracy for different number of hidden layers\n",
    "mlp_parameters['num_layers'] = 5\n",
    "for i in range (0, 5):\n",
    "    y_test_hat = mlp(x_train_hat, y_train, x_test_hat, mlp_parameters)\n",
    "    slab_arousal_acc.append(perf_metric(metric1, y_test, y_test_hat))\n",
    "    slab_arousal_auc.append(perf_metric(metric2, y_test, y_test_hat))"
   ],
   "metadata": {
    "collapsed": false,
    "ExecuteTime": {
     "end_time": "2024-02-16T07:02:04.251363900Z",
     "start_time": "2024-02-16T07:01:15.523487500Z"
    }
   },
   "id": "422ceb1cfc0101f6",
   "execution_count": 24
  },
  {
   "cell_type": "code",
   "outputs": [],
   "source": [
    "np.round(slab_arousal_acc,4)"
   ],
   "metadata": {
    "collapsed": false,
    "ExecuteTime": {
     "start_time": "2024-02-16T07:02:04.251363900Z"
    }
   },
   "id": "9bd467576febf093",
   "execution_count": null
  },
  {
   "cell_type": "code",
   "outputs": [],
   "source": [
    "np.round(slab_arousal_auc, 4)"
   ],
   "metadata": {
    "collapsed": false,
    "ExecuteTime": {
     "end_time": "2024-02-16T07:02:04.254363300Z",
     "start_time": "2024-02-16T07:02:04.252365200Z"
    }
   },
   "id": "130f932df280281",
   "execution_count": null
  },
  {
   "cell_type": "code",
   "outputs": [],
   "source": [
    "print(\"Mean of arousal accuracies for SLAB using He weight initialization is \",round(np.mean(slab_arousal_acc),4))\n",
    "\n",
    "print(\"Mean of arousal accuracies AUC Score for SLAB is \",round(np.mean(slab_arousal_auc), 4))\n",
    "\n",
    "# Compute standard deviation\n",
    "std_dev_acc = np.std(slab_arousal_acc)\n",
    "print(\"Standard Deviation of arousal Accuracies using SLAB: \", std_dev_acc)"
   ],
   "metadata": {
    "collapsed": false,
    "ExecuteTime": {
     "start_time": "2024-02-16T07:02:04.253363700Z"
    }
   },
   "id": "52de3a09f57678cc",
   "execution_count": null
  }
 ],
 "metadata": {
  "kernelspec": {
   "display_name": "Python 3",
   "language": "python",
   "name": "python3"
  },
  "language_info": {
   "codemirror_mode": {
    "name": "ipython",
    "version": 2
   },
   "file_extension": ".py",
   "mimetype": "text/x-python",
   "name": "python",
   "nbconvert_exporter": "python",
   "pygments_lexer": "ipython2",
   "version": "2.7.6"
  }
 },
 "nbformat": 4,
 "nbformat_minor": 5
}
